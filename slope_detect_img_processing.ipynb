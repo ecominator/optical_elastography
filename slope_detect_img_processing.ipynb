{
 "cells": [
  {
   "cell_type": "code",
   "execution_count": 2,
   "metadata": {},
   "outputs": [],
   "source": [
    "#import functions\n",
    "import numpy as np\n",
    "from numpy import linalg\n",
    "\n",
    "import cv2 as cv\n",
    "import scipy\n",
    "from scipy import signal\n",
    "\n",
    "import matplotlib\n",
    "import matplotlib.pyplot as plt\n",
    "import matplotlib as mpl\n",
    "\n",
    "import os\n",
    "import shutil\n",
    "\n",
    "from utils import resize_percent, edge_detect, count_gray_levels, fill\n",
    "# from utils import show_image"
   ]
  },
  {
   "cell_type": "code",
   "execution_count": 1,
   "metadata": {},
   "outputs": [],
   "source": [
    "#cross correlation function\n",
    "\n",
    "def cross_correlation (frNum, path_to_images, pixel, kernel, x_disp=False, y_disp=False):\n",
    "    image_1_name = os.fsdecode(os.listdir(path_to_images)[0])\n",
    "    image_1 = cv.imread(path_to_images + f'{image_1_name}', cv.IMREAD_GRAYSCALE)\n",
    "    corr_full_x = np.zeros([image_1.shape[1], frNum])\n",
    "    corr_full_y = np.zeros([image_1.shape[0], frNum])\n",
    "    k=0\n",
    "    while k<frNum:\n",
    "        image_name = str(k) + '.jpg'\n",
    "        image_next = cv.imread(path_to_images+f'{image_name}', cv.IMREAD_GRAYSCALE)\n",
    "        if x_disp:\n",
    "            arr_1 = np.ones([kernel,]) * image_1[pixel[0], pixel[1]]\n",
    "            corr = signal.correlate(image_next[pixel[0], :], arr_1, mode='same')\n",
    "            corr = np.reshape(cv.normalize(corr, None, 1, 256, cv.NORM_MINMAX), (image_1.shape[1],)) #normalization added\n",
    "            corr_full_x[:, k] = corr\n",
    "        if y_disp:\n",
    "            arr_1 = np.ones([kernel,]) * image_1[pixel[0], pixel[1]]\n",
    "            corr = signal.correlate(image_next[:, pixel[1]], np.transpose(arr_1), mode='same')\n",
    "            corr = np.reshape(cv.normalize(corr, None, 1, 256, cv.NORM_MINMAX), (image_1.shape[0],)) #normalization added\n",
    "            corr_full_y[:, k] = corr          \n",
    "        k+=1\n",
    "    \n",
    "    return corr_full_x, corr_full_y"
   ]
  },
  {
   "cell_type": "code",
   "execution_count": 3,
   "metadata": {},
   "outputs": [
    {
     "name": "stdout",
     "output_type": "stream",
     "text": [
      "10\n",
      "[[  1.           1.           1.         ... 240.87288136 232.1682243\n",
      "  174.50515464]\n",
      " [  2.55487805   2.54545455   1.         ... 227.90677966 246.46728972\n",
      "  190.27835052]\n",
      " [  8.77439024   5.63636364   1.         ... 206.29661017 256.\n",
      "  206.05154639]\n",
      " ...\n",
      " [238.89634146 235.90909091 233.82608696 ... 251.6779661  248.85046729\n",
      "  234.96907216]\n",
      " [242.00609756 237.45454545 233.82608696 ... 251.6779661  248.85046729\n",
      "  237.59793814]\n",
      " [242.00609756 237.45454545 233.82608696 ... 253.83898305 248.85046729\n",
      "  240.22680412]]\n"
     ]
    },
    {
     "data": {
      "image/png": "[encoded data removed]",
      "text/plain": [
       "<Figure size 640x480 with 1 Axes>"
      ]
     },
     "metadata": {},
     "output_type": "display_data"
    }
   ],
   "source": [
    "# implement slope measurement for one pixel\n",
    "# 100x100 pixels\n",
    "#iterate through each pixel to get a correlation result\n",
    "frNum = 10\n",
    "path_to_images = 'sim_2perc_crop/'\n",
    "# path_to_images = 'sim_1perc_crop/'\n",
    "# path_to_images = 'sim_05perc_crop/'\n",
    "kernel = 1\n",
    "threshold_bin = 0\n",
    "\n",
    "pixel_x = 4\n",
    "pixel_y = 0\n",
    "pixel_array = []\n",
    "for x in range(0, pixel_x + 1):\n",
    "     for y in range(0, pixel_y + 1):\n",
    "        pixel = [pixel_x, pixel_y]\n",
    "pixel_array.append(pixel)         \n",
    "         \n",
    "#corr_full_y is 100x29 matrix which represents one pixel      \n",
    "_, corr_full_y = cross_correlation(frNum, path_to_images, pixel_array[0], kernel, x_disp=False, y_disp=True)\n",
    "\n",
    "plt.imshow(corr_full_y)\n",
    "print(corr_full_y.shape[1])\n",
    "print(corr_full_y)"
   ]
  },
  {
   "cell_type": "code",
   "execution_count": 4,
   "metadata": {},
   "outputs": [
    {
     "name": "stdout",
     "output_type": "stream",
     "text": [
      "[[0. 0. 0. ... 1. 1. 1.]\n",
      " [0. 0. 0. ... 1. 1. 1.]\n",
      " [0. 0. 0. ... 1. 1. 1.]\n",
      " ...\n",
      " [1. 1. 1. ... 1. 1. 1.]\n",
      " [1. 1. 1. ... 1. 1. 1.]\n",
      " [1. 1. 1. ... 1. 1. 1.]]\n"
     ]
    },
    {
     "data": {
      "image/png": "[encoded data removed]",
      "text/plain": [
       "<Figure size 640x480 with 1 Axes>"
      ]
     },
     "metadata": {},
     "output_type": "display_data"
    }
   ],
   "source": [
    "#clean version\n",
    "T=120\n",
    "image = np.copy(corr_full_y)\n",
    "image[corr_full_y<T] = 0\n",
    "image[corr_full_y>=T] = 1\n",
    "plt.imshow(image)\n",
    "print(image)"
   ]
  },
  {
   "cell_type": "code",
   "execution_count": 5,
   "metadata": {},
   "outputs": [],
   "source": [
    "# Save the Numpy array as Image\n",
    "image_filename = \"image0_2perc.jpeg\"\n",
    "i=0\n",
    "saved_image = plt.imsave(fname=image_filename, arr=image)"
   ]
  },
  {
   "cell_type": "code",
   "execution_count": 6,
   "metadata": {},
   "outputs": [
    {
     "data": {
      "text/plain": [
       "<matplotlib.image.AxesImage at 0x7fa0fdb616f0>"
      ]
     },
     "execution_count": 6,
     "metadata": {},
     "output_type": "execute_result"
    },
    {
     "data": {
      "image/png": "[encoded data removed]",
      "text/plain": [
       "<Figure size 640x480 with 1 Axes>"
      ]
     },
     "metadata": {},
     "output_type": "display_data"
    }
   ],
   "source": [
    "img = cv.imread(filename=image_filename, flags=cv.IMREAD_GRAYSCALE)\n",
    "plt.imshow(image)\n",
    "# print(image)"
   ]
  },
  {
   "cell_type": "code",
   "execution_count": 7,
   "metadata": {},
   "outputs": [
    {
     "name": "stdout",
     "output_type": "stream",
     "text": [
      "[[ 28  28  30 ... 178 209 214]\n",
      " [ 27  28  30 ... 170 207 214]\n",
      " [ 28  29  30 ... 162 205 214]\n",
      " ...\n",
      " [215 215 215 ... 215 215 215]\n",
      " [215 215 215 ... 215 215 215]\n",
      " [215 215 215 ... 215 215 215]]\n"
     ]
    },
    {
     "data": {
      "image/png": "[encoded data removed]",
      "text/plain": [
       "<Figure size 640x480 with 1 Axes>"
      ]
     },
     "metadata": {},
     "output_type": "display_data"
    }
   ],
   "source": [
    "img_bl = cv.GaussianBlur(src=img, ksize=(7, 7), sigmaX=1)\n",
    "plt.imshow(img_bl)\n",
    "print(img_bl)\n",
    "max_gray_level_img = count_gray_levels(img_bl)"
   ]
  },
  {
   "cell_type": "code",
   "execution_count": 11,
   "metadata": {},
   "outputs": [
    {
     "name": "stdout",
     "output_type": "stream",
     "text": [
      "[[255 255 255 ...   0   0   0]\n",
      " [255 255 255 ...   0   0   0]\n",
      " [255 255 255 ...   0   0   0]\n",
      " ...\n",
      " [  0   0   0 ...   0   0   0]\n",
      " [  0   0   0 ...   0   0   0]\n",
      " [  0   0   0 ...   0   0   0]]\n"
     ]
    },
    {
     "data": {
      "image/png": "[encoded data removed]",
      "text/plain": [
       "<Figure size 640x480 with 1 Axes>"
      ]
     },
     "metadata": {},
     "output_type": "display_data"
    }
   ],
   "source": [
    "GRAY_LEVEL_01 = 100\n",
    "img_th = cv.inRange(src=img_bl, lowerb=0, upperb=GRAY_LEVEL_01)\n",
    "plt.imshow(img_th)\n",
    "print(img_th)"
   ]
  },
  {
   "cell_type": "code",
   "execution_count": 12,
   "metadata": {},
   "outputs": [
    {
     "name": "stdout",
     "output_type": "stream",
     "text": [
      "[[255 255 255 ...   0   0   0]\n",
      " [255 255 255 ...   0   0   0]\n",
      " [255 255 255 ...   0   0   0]\n",
      " ...\n",
      " [  0   0   0 ...   0   0   0]\n",
      " [  0   0   0 ...   0   0   0]\n",
      " [  0   0   0 ...   0   0   0]]\n"
     ]
    },
    {
     "data": {
      "image/png": "[encoded data removed]",
      "text/plain": [
       "<Figure size 640x480 with 1 Axes>"
      ]
     },
     "metadata": {},
     "output_type": "display_data"
    }
   ],
   "source": [
    "cnts = cv.findContours(img_th, cv.RETR_EXTERNAL, cv.CHAIN_APPROX_SIMPLE)\n",
    "cnts = cnts[0] if len(cnts) == 2 else cnts[1]\n",
    "cnts = sorted(cnts, key=cv.contourArea, reverse=True)\n",
    "\n",
    "# img_emb = np.zeros((img_th.shape), np.uint8)\n",
    "img_emb = np.copy(img_th)\n",
    "(x, y, w, h) = cv.boundingRect(cnts[0])\n",
    "area_max = w*h\n",
    "for c in cnts:\n",
    "    (x, y, w, h) = cv.boundingRect(c)\n",
    "    cnt_area = w*h\n",
    "    if cnt_area < area_max:\n",
    "        img_emb[y:y+h, x:x+w] = 0\n",
    "plt.imshow(img_emb)\n",
    "print(img_emb)"
   ]
  },
  {
   "cell_type": "code",
   "execution_count": 17,
   "metadata": {},
   "outputs": [],
   "source": [
    "def find_connected_components(img):\n",
    "    n_labels, labels, stats, centroids = cv.connectedComponentsWithStats(image=img.copy(), connectivity=8, ltype=cv.CV_32S)\n",
    "    areas = stats[1:, cv.CC_STAT_AREA]\n",
    "    return labels, areas"
   ]
  },
  {
   "cell_type": "code",
   "execution_count": 18,
   "metadata": {},
   "outputs": [
    {
     "name": "stdout",
     "output_type": "stream",
     "text": [
      "[[255 255 255 ...   0   0   0]\n",
      " [255 255 255 ...   0   0   0]\n",
      " [255 255 255 ...   0   0   0]\n",
      " ...\n",
      " [  0   0   0 ...   0   0   0]\n",
      " [  0   0   0 ...   0   0   0]\n",
      " [  0   0   0 ...   0   0   0]]\n"
     ]
    },
    {
     "data": {
      "image/png": "[encoded data removed]",
      "text/plain": [
       "<Figure size 640x480 with 1 Axes>"
      ]
     },
     "metadata": {},
     "output_type": "display_data"
    }
   ],
   "source": [
    "labels, areas = find_connected_components(img_th)\n",
    "if len(areas) == 0:\n",
    "    print(\"no area\")\n",
    "else:\n",
    "    area_max_idx = np.argmax(areas)\n",
    "img_emb= np.zeros(labels.shape, dtype=np.uint8)\n",
    "img_emb[labels == area_max_idx + 1] = 255\n",
    "plt.imshow(img_emb)\n",
    "print(img_emb)"
   ]
  },
  {
   "cell_type": "code",
   "execution_count": 19,
   "metadata": {},
   "outputs": [
    {
     "name": "stdout",
     "output_type": "stream",
     "text": [
      "[[0 0 0 ... 0 0 0]\n",
      " [0 0 0 ... 0 0 0]\n",
      " [0 0 0 ... 0 0 0]\n",
      " ...\n",
      " [0 0 0 ... 0 0 0]\n",
      " [0 0 0 ... 0 0 0]\n",
      " [0 0 0 ... 0 0 0]]\n"
     ]
    },
    {
     "data": {
      "image/png": "[encoded data removed]",
      "text/plain": [
       "<Figure size 640x480 with 1 Axes>"
      ]
     },
     "metadata": {},
     "output_type": "display_data"
    }
   ],
   "source": [
    "WHITE_LEVEL = 255\n",
    "img_ed = cv.Canny(image=img_emb, threshold1=WHITE_LEVEL//2, threshold2=WHITE_LEVEL, apertureSize=3, L2gradient=True)\n",
    "plt.imshow(img_ed)\n",
    "print(img_ed)"
   ]
  },
  {
   "cell_type": "code",
   "execution_count": 20,
   "metadata": {},
   "outputs": [
    {
     "name": "stdout",
     "output_type": "stream",
     "text": [
      "[[ 0  0  0 ... 43  9  1]\n",
      " [ 0  0  0 ... 50 11  2]\n",
      " [ 0  0  0 ... 59 13  2]\n",
      " ...\n",
      " [ 0  0  0 ...  0  0  0]\n",
      " [ 0  0  0 ...  0  0  0]\n",
      " [ 0  0  0 ...  0  0  0]]\n"
     ]
    },
    {
     "data": {
      "image/png": "[encoded data removed]",
      "text/plain": [
       "<Figure size 640x480 with 1 Axes>"
      ]
     },
     "metadata": {},
     "output_type": "display_data"
    }
   ],
   "source": [
    "img_bl = cv.GaussianBlur(src=img_ed, ksize=(7, 7), sigmaX=1)\n",
    "plt.imshow(img_bl)\n",
    "print(img_bl)"
   ]
  },
  {
   "cell_type": "code",
   "execution_count": 33,
   "metadata": {},
   "outputs": [
    {
     "name": "stdout",
     "output_type": "stream",
     "text": [
      "[[ 0  0  0 ... 43  9  1]\n",
      " [ 0  0  0 ... 50 11  2]\n",
      " [ 0  0  0 ... 59 13  2]\n",
      " ...\n",
      " [ 0  0  0 ...  0  0  0]\n",
      " [ 0  0  0 ...  0  0  0]\n",
      " [ 0  0  0 ...  0  0  0]]\n"
     ]
    },
    {
     "data": {
      "image/png": "[encoded data removed]",
      "text/plain": [
       "<Figure size 640x480 with 1 Axes>"
      ]
     },
     "metadata": {},
     "output_type": "display_data"
    }
   ],
   "source": [
    "img_line = img_bl.copy()\n",
    "plt.imshow(img_line)\n",
    "print(img_line) "
   ]
  },
  {
   "cell_type": "code",
   "execution_count": 36,
   "metadata": {},
   "outputs": [
    {
     "name": "stdout",
     "output_type": "stream",
     "text": [
      "no line detected\n"
     ]
    },
    {
     "data": {
      "text/plain": [
       "<matplotlib.image.AxesImage at 0x7fa0ffbf6980>"
      ]
     },
     "execution_count": 36,
     "metadata": {},
     "output_type": "execute_result"
    },
    {
     "data": {
      "image/png": "[encoded data removed]",
      "text/plain": [
       "<Figure size 640x480 with 1 Axes>"
      ]
     },
     "metadata": {},
     "output_type": "display_data"
    }
   ],
   "source": [
    "img_line = img_bl.copy()\n",
    "lines = cv.HoughLinesP(image=img_line, rho=1, theta=np.pi/180, threshold=50, minLineLength=4, maxLineGap=5) #2percent\n",
    "# lines = cv.HoughLinesP(image=img_line, rho=1, theta=np.pi/180, threshold=25, minLineLength=10, maxLineGap=5) #1prcnt\n",
    "# lines = cv.HoughLinesP(image=img_line, rho=1, theta=np.pi/180, threshold=25, minLineLength=10, maxLineGap=5) #05prcnt\n",
    "points = []\n",
    "if lines is not None:\n",
    "    for line in lines:\n",
    "        x1, y1, x2, y2 = line[0]\n",
    "        if 0 <= 180*np.arctan2(abs(y2-y1), abs(x2-x1))/np.pi <= 180:\n",
    "            points = [x1, y1, x2, y2]\n",
    "            cv.line(img_line, (x1, y1), (x2, y2), (255, 0, 0), 2)\n",
    "            break\n",
    "    angle = 180*np.arctan2(abs(y2-y1), abs(x2-x1))/np.pi\n",
    "    print(f'slope is: {angle} degrees')\n",
    "else:\n",
    "    print(\"no line detected\")\n",
    "plt.imshow(img_line)\n",
    "# print(img_line)   "
   ]
  }
 ],
 "metadata": {
  "kernelspec": {
   "display_name": "Python 3.10.9 ('elastography')",
   "language": "python",
   "name": "python3"
  },
  "language_info": {
   "codemirror_mode": {
    "name": "ipython",
    "version": 3
   },
   "file_extension": ".py",
   "mimetype": "text/x-python",
   "name": "python",
   "nbconvert_exporter": "python",
   "pygments_lexer": "ipython3",
   "version": "3.10.9"
  },
  "orig_nbformat": 4,
  "vscode": {
   "interpreter": {
    "hash": "a3d30da45adb134a765899144bd3db66488bc29deb4a507e0d3f4d9edf9785fb"
   }
  }
 },
 "nbformat": 4,
 "nbformat_minor": 2
}
