{
 "cells": [
  {
   "cell_type": "code",
   "execution_count": 9,
   "metadata": {},
   "outputs": [],
   "source": [
    "import numpy as np\n",
    "import cv2 as cv\n",
    "import os\n",
    "import matplotlib.pyplot as plt\n",
    "\n",
    "from utils import make_folder, extract_frames, crop_images"
   ]
  },
  {
   "cell_type": "code",
   "execution_count": 11,
   "metadata": {},
   "outputs": [],
   "source": [
    "# #ONLY RUN ONCE\n",
    "# #making folders\n",
    "full_frames_name = 'sim_2perc'\n",
    "cropped_frames_name = 'sim_2perc_crop'\n",
    "make_folder(full_frames_name)\n",
    "make_folder(cropped_frames_name)"
   ]
  },
  {
   "cell_type": "code",
   "execution_count": 14,
   "metadata": {},
   "outputs": [
    {
     "name": "stderr",
     "output_type": "stream",
     "text": [
      "[ WARN:0@1816.859] global /private/var/folders/sy/f16zz6x50xz3113nwtb9bvq00000gp/T/abs_5a1v4y7k9y/croot/opencv-suite_1676472757237/work/modules/videoio/src/cap_gstreamer.cpp (862) isPipelinePlaying OpenCV | GStreamer warning: GStreamer: pipeline have not been created\n",
      "[ERROR:0@1816.859] global /private/var/folders/sy/f16zz6x50xz3113nwtb9bvq00000gp/T/abs_5a1v4y7k9y/croot/opencv-suite_1676472757237/work/modules/videoio/src/cap.cpp (166) open VIDEOIO(GSTREAMER): raised OpenCV exception:\n",
      "\n",
      "OpenCV(4.6.0) /private/var/folders/sy/f16zz6x50xz3113nwtb9bvq00000gp/T/abs_5a1v4y7k9y/croot/opencv-suite_1676472757237/work/modules/core/src/utils/filesystem.cpp:580: error: (-213:The function/feature is not implemented)  in function 'exists'\n",
      "\n",
      "\n"
     ]
    },
    {
     "name": "stdout",
     "output_type": "stream",
     "text": [
      "No frames grabbed!\n"
     ]
    }
   ],
   "source": [
    "# #ONLY RUN ONCE\n",
    "# #extracting frames from the simulated 2 percent G1100 video\n",
    "video_name = 'test2percent_G1100_cut'\n",
    "path_to_source = 'data/' + video_name + '.avi'\n",
    "num_frames = 50\n",
    "extract_frames(video_name, path_to_source, num_frames)"
   ]
  },
  {
   "cell_type": "code",
   "execution_count": null,
   "metadata": {},
   "outputs": [],
   "source": [
    "# do grayscale\n",
    "# increase the contrast"
   ]
  },
  {
   "cell_type": "code",
   "execution_count": 15,
   "metadata": {},
   "outputs": [],
   "source": [
    "#ONLY RUN ONCE\n",
    "# crop images for faster calculation \n",
    "data_path = 'sim_2perc/'\n",
    "data_save = 'sim_2perc_crop/'\n",
    "x_start = 0\n",
    "x_end = 50\n",
    "y_start = 0\n",
    "y_end = 40\n",
    "crop_images(data_path, data_save, x_start, x_end, y_start, y_end, color=False)"
   ]
  },
  {
   "cell_type": "code",
   "execution_count": 16,
   "metadata": {},
   "outputs": [],
   "source": [
    "def read_frames_from_folder(folder_path):\n",
    "    frames = []\n",
    "    for file in sorted(os.listdir(folder_path)):\n",
    "        if file.endswith('.jpg') or file.endswith('.png'):\n",
    "            frame = cv.imread(os.path.join(folder_path, file), cv.IMREAD_GRAYSCALE)\n",
    "            frames.append(frame)\n",
    "    return frames\n",
    "    "
   ]
  },
  {
   "cell_type": "code",
   "execution_count": 4,
   "metadata": {},
   "outputs": [],
   "source": [
    "def calculate_arrival_times(frames, threshold):\n",
    "    '''The threshold value corresponds to the intensity value used to determine the arrival time of the wave at each pixel.\n",
    "    If the pixel intensity at a given location exceeds this threshold, it is considered that the wave has arrived at that pixel.\n",
    "    The purpose of the threshold is to identify the point in time when the wave is considered to have reached the pixel,\n",
    "    based on the intensity of the pixel in the frames.\n",
    "    \n",
    "    Llow threshold value might result in detecting noise or other irrelevant fluctuations in the image as the wave propagation,\n",
    "    which can affect the accuracy of your arrival time calculations.\n",
    "    It's important to choose an appropriate threshold value that allows you to distinguish the actual wave propagation\n",
    "    from noise or other irrelevant fluctuations in the image. '''\n",
    "    \n",
    "    arrival_times = np.zeros(frames[0].shape)\n",
    "    for y in range(frames[0].shape[0]):\n",
    "        for x in range(frames[0].shape[1]):\n",
    "            for t in range(len(frames)):\n",
    "                if frames[t][y, x] >= threshold:\n",
    "                    arrival_times[y, x] = t\n",
    "                    break\n",
    "    return arrival_times\n",
    "    "
   ]
  },
  {
   "cell_type": "code",
   "execution_count": 5,
   "metadata": {},
   "outputs": [],
   "source": [
    "def calculate_distances(y_source, frame_height, px2um):\n",
    "    distances = np.zeros(frame_height)\n",
    "    for y in range(frame_height):\n",
    "        distances[y] = np.abs(y - y_source) * px2um\n",
    "    return distances\n"
   ]
  },
  {
   "cell_type": "code",
   "execution_count": 6,
   "metadata": {},
   "outputs": [],
   "source": [
    "def estimate_shear_wave_speed(arrival_times, distances, frame_rate):\n",
    "    shear_wave_speed = np.zeros(arrival_times.shape)\n",
    "    for y in range(arrival_times.shape[0]):\n",
    "        for x in range(arrival_times.shape[1]):\n",
    "            time_of_flight = arrival_times[y, x] / frame_rate\n",
    "            shear_wave_speed[y, x] = distances[y] / time_of_flight\n",
    "    return shear_wave_speed\n"
   ]
  },
  {
   "cell_type": "code",
   "execution_count": 8,
   "metadata": {},
   "outputs": [
    {
     "name": "stderr",
     "output_type": "stream",
     "text": [
      "/var/folders/vj/3_h6tw0d0c54j62h3ppjflww0000gn/T/ipykernel_98390/2957147873.py:6: RuntimeWarning: invalid value encountered in double_scalars\n",
      "  shear_wave_speed[y, x] = distances[y] / time_of_flight\n",
      "/var/folders/vj/3_h6tw0d0c54j62h3ppjflww0000gn/T/ipykernel_98390/2957147873.py:6: RuntimeWarning: divide by zero encountered in double_scalars\n",
      "  shear_wave_speed[y, x] = distances[y] / time_of_flight\n"
     ]
    },
    {
     "data": {
      "text/plain": [
       "<matplotlib.colorbar.Colorbar at 0x7fef1f34b460>"
      ]
     },
     "execution_count": 8,
     "metadata": {},
     "output_type": "execute_result"
    },
    {
     "data": {
      "image/png": "[encoded data removed]",
      "text/plain": [
       "<Figure size 640x480 with 2 Axes>"
      ]
     },
     "metadata": {},
     "output_type": "display_data"
    }
   ],
   "source": [
    "'''This script assumes that the wave source is at the top edge of the frames (y_source = 0) and propagates vertically downwards.\n",
    "You need to adjust the threshold, frame_rate, and y_source based on your specific data and application.'''\n",
    "\n",
    "folder_path = 'sim_2perc_crop'\n",
    "frames = read_frames_from_folder(folder_path)\n",
    "\n",
    "# # experimental videos\n",
    "# threshold = 25 # Adjust this threshold based on your data\n",
    "# frame_rate = 100e3  # Adjust the frame rate based on your data (in frames per second)\n",
    "# y_source = 0  # Adjust the y-coordinate of the wave source\n",
    "# px2um = 0.5*1e-6 # conversion factor for the pixels in SI units, here in [um]\n",
    "\n",
    "# simulated videos\n",
    "threshold = 100 # Adjust this threshold based on your data\n",
    "frame_rate = (12500*85)/(85/len(frames))  # Adjust the frame rate based on your data (in frames per second)\n",
    "y_source = 0  # Adjust the y-coordinate of the wave source\n",
    "px2um = 1/1.28*1e-6 # conversion factor for the pixels in SI units, here in [um]\n",
    "\n",
    "\n",
    "arrival_times = calculate_arrival_times(frames, threshold)\n",
    "distances = calculate_distances(y_source, frames[0].shape[0], px2um)\n",
    "shear_wave_speed = estimate_shear_wave_speed(arrival_times, distances, frame_rate)\n",
    "\n",
    "# Remove infinite and NaN values due to division by zero\n",
    "# shear_wave_speed = np.nan_to_num(shear_wave_speed, nan=0, posinf=0, neginf=0)\n",
    "\n",
    "# Normalize and save the resulting shear wave speed map\n",
    "# cv.normalize(shear_wave_speed, shear_wave_speed, 0, 255, cv.NORM_MINMAX)\n",
    "# cv.imwrite('shear_wave_speed_map.png', shear_wave_speed)\n",
    "plt.figure()\n",
    "plt.imshow(shear_wave_speed)\n",
    "plt.colorbar()\n"
   ]
  },
  {
   "cell_type": "code",
   "execution_count": 114,
   "metadata": {},
   "outputs": [
    {
     "data": {
      "text/plain": [
       "0.8789062499999999"
      ]
     },
     "execution_count": 114,
     "metadata": {},
     "output_type": "execute_result"
    }
   ],
   "source": [
    "# finding median slope (positive), not including nan values\n",
    "copy_shear_wave_speed = shear_wave_speed\n",
    "\n",
    "# nan_array = np.isnan(copy_shear_wave_speed)\n",
    "# not_nan_array = ~ nan_array\n",
    "\n",
    "nan_array = np.isposinf(copy_shear_wave_speed)\n",
    "not_nan_array = ~ nan_array\n",
    "\n",
    "speed_notnan = copy_shear_wave_speed[not_nan_array]\n",
    "replacement_value = np.median(speed_notnan)\n",
    "replacement_value "
   ]
  },
  {
   "cell_type": "code",
   "execution_count": 115,
   "metadata": {},
   "outputs": [
    {
     "data": {
      "text/plain": [
       "array([[0.        , 0.        , 0.        , ..., 0.        , 0.        ,\n",
       "        0.        ],\n",
       "       [0.14648437, 0.14648437, 0.14648437, ..., 0.14648437, 0.14648437,\n",
       "        0.14648437],\n",
       "       [0.29296875, 0.29296875, 0.29296875, ..., 0.29296875, 0.29296875,\n",
       "        0.29296875],\n",
       "       ...,\n",
       "       [0.87890625, 0.87890625, 0.87890625, ..., 0.87890625, 0.87890625,\n",
       "        0.87890625],\n",
       "       [0.87890625, 0.87890625, 0.87890625, ..., 0.87890625, 0.87890625,\n",
       "        0.87890625],\n",
       "       [0.87890625, 0.87890625, 0.87890625, ..., 0.87890625, 0.87890625,\n",
       "        0.87890625]])"
      ]
     },
     "execution_count": 115,
     "metadata": {},
     "output_type": "execute_result"
    }
   ],
   "source": [
    "#same value as above\n",
    "for i in range(copy_shear_wave_speed.shape[0]):\n",
    "    for j in range(copy_shear_wave_speed.shape[1]):\n",
    "        if copy_shear_wave_speed[i,j]>10*replacement_value:\n",
    "            copy_shear_wave_speed[i,j] = replacement_value\n",
    "        elif np.isnan(copy_shear_wave_speed[i,j]):\n",
    "            copy_shear_wave_speed[i,j] = replacement_value\n",
    "copy_shear_wave_speed"
   ]
  },
  {
   "cell_type": "code",
   "execution_count": 81,
   "metadata": {},
   "outputs": [],
   "source": [
    "# calculate elasticity\n",
    "def elasticity_HT (speed, density):\n",
    "    mu = (speed **2) * density\n",
    "    return mu"
   ]
  },
  {
   "cell_type": "code",
   "execution_count": 116,
   "metadata": {},
   "outputs": [
    {
     "data": {
      "text/plain": [
       "<matplotlib.colorbar.Colorbar at 0x7fb533830160>"
      ]
     },
     "execution_count": 116,
     "metadata": {},
     "output_type": "execute_result"
    },
    {
     "data": {
      "image/png": "[encoded data removed]",
      "text/plain": [
       "<Figure size 640x480 with 2 Axes>"
      ]
     },
     "metadata": {},
     "output_type": "display_data"
    }
   ],
   "source": [
    "# Compute elasticity\n",
    "density = 1000\n",
    "mu = elasticity_HT(copy_shear_wave_speed, density) \n",
    "mu_2dec = np.round(mu,2)\n",
    "plt.figure()\n",
    "plt.imshow(mu_2dec)\n",
    "plt.colorbar()"
   ]
  },
  {
   "cell_type": "code",
   "execution_count": 92,
   "metadata": {},
   "outputs": [],
   "source": [
    "def get_non_zero_elements(array):\n",
    "    non_zero_indices = np.nonzero(array)\n",
    "    non_zero_values = array[non_zero_indices]\n",
    "    return non_zero_values"
   ]
  },
  {
   "cell_type": "code",
   "execution_count": 117,
   "metadata": {},
   "outputs": [
    {
     "data": {
      "text/plain": [
       "772.48"
      ]
     },
     "execution_count": 117,
     "metadata": {},
     "output_type": "execute_result"
    }
   ],
   "source": [
    "mu_nonzero = get_non_zero_elements(mu_2dec)\n",
    "mu_median = np.median(mu_nonzero)\n",
    "mu_median"
   ]
  }
 ],
 "metadata": {
  "kernelspec": {
   "display_name": "Python 3.10.9 ('elastography')",
   "language": "python",
   "name": "python3"
  },
  "language_info": {
   "codemirror_mode": {
    "name": "ipython",
    "version": 3
   },
   "file_extension": ".py",
   "mimetype": "text/x-python",
   "name": "python",
   "nbconvert_exporter": "python",
   "pygments_lexer": "ipython3",
   "version": "3.10.9"
  },
  "orig_nbformat": 4,
  "vscode": {
   "interpreter": {
    "hash": "a3d30da45adb134a765899144bd3db66488bc29deb4a507e0d3f4d9edf9785fb"
   }
  }
 },
 "nbformat": 4,
 "nbformat_minor": 2
}
