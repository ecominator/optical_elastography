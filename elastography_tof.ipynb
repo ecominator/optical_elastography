{
 "cells": [
  {
   "cell_type": "code",
   "execution_count": 1,
   "metadata": {},
   "outputs": [],
   "source": [
    "import numpy as np\n",
    "import cv2 as cv\n",
    "import os\n",
    "import matplotlib.pyplot as plt\n",
    "\n",
    "from utils import make_folder, extract_frames, crop_images, count_gray_levels"
   ]
  },
  {
   "cell_type": "code",
   "execution_count": 2,
   "metadata": {},
   "outputs": [
    {
     "ename": "FileExistsError",
     "evalue": "[Errno 17] File exists: 'sim_G1100'",
     "output_type": "error",
     "traceback": [
      "\u001b[0;31m---------------------------------------------------------------------------\u001b[0m",
      "\u001b[0;31mFileExistsError\u001b[0m                           Traceback (most recent call last)",
      "Cell \u001b[0;32mIn[2], line 5\u001b[0m\n\u001b[1;32m      3\u001b[0m full_frames_name \u001b[38;5;241m=\u001b[39m \u001b[38;5;124m'\u001b[39m\u001b[38;5;124msim_G1100\u001b[39m\u001b[38;5;124m'\u001b[39m\n\u001b[1;32m      4\u001b[0m cropped_frames_name \u001b[38;5;241m=\u001b[39m \u001b[38;5;124m'\u001b[39m\u001b[38;5;124msim_G1100_crop\u001b[39m\u001b[38;5;124m'\u001b[39m\n\u001b[0;32m----> 5\u001b[0m \u001b[43mmake_folder\u001b[49m\u001b[43m(\u001b[49m\u001b[43mfull_frames_name\u001b[49m\u001b[43m)\u001b[49m\n\u001b[1;32m      6\u001b[0m make_folder(cropped_frames_name)\n",
      "File \u001b[0;32m~/Documents/optical_elastography_2023/utils.py:162\u001b[0m, in \u001b[0;36mmake_folder\u001b[0;34m(folder_name)\u001b[0m\n\u001b[1;32m    161\u001b[0m \u001b[39mdef\u001b[39;00m \u001b[39mmake_folder\u001b[39m(folder_name):\n\u001b[0;32m--> 162\u001b[0m     os\u001b[39m.\u001b[39;49mmkdir(folder_name)\n",
      "\u001b[0;31mFileExistsError\u001b[0m: [Errno 17] File exists: 'sim_G1100'"
     ]
    }
   ],
   "source": [
    "# #ONLY RUN ONCE\n",
    "# #making folders\n",
    "full_frames_name = 'sim_G1100'\n",
    "cropped_frames_name = 'sim_G1100_crop'\n",
    "make_folder(full_frames_name)\n",
    "make_folder(cropped_frames_name)"
   ]
  },
  {
   "cell_type": "code",
   "execution_count": 45,
   "metadata": {},
   "outputs": [
    {
     "name": "stdout",
     "output_type": "stream",
     "text": [
      "No frames grabbed!\n"
     ]
    },
    {
     "name": "stderr",
     "output_type": "stream",
     "text": [
      "[ WARN:0@1033.395] global /private/var/folders/sy/f16zz6x50xz3113nwtb9bvq00000gp/T/abs_5a1v4y7k9y/croot/opencv-suite_1676472757237/work/modules/videoio/src/cap_gstreamer.cpp (862) isPipelinePlaying OpenCV | GStreamer warning: GStreamer: pipeline have not been created\n",
      "[ERROR:0@1033.395] global /private/var/folders/sy/f16zz6x50xz3113nwtb9bvq00000gp/T/abs_5a1v4y7k9y/croot/opencv-suite_1676472757237/work/modules/videoio/src/cap.cpp (166) open VIDEOIO(GSTREAMER): raised OpenCV exception:\n",
      "\n",
      "OpenCV(4.6.0) /private/var/folders/sy/f16zz6x50xz3113nwtb9bvq00000gp/T/abs_5a1v4y7k9y/croot/opencv-suite_1676472757237/work/modules/core/src/utils/filesystem.cpp:580: error: (-213:The function/feature is not implemented)  in function 'exists'\n",
      "\n",
      "\n"
     ]
    }
   ],
   "source": [
    "# #ONLY RUN ONCE\n",
    "# #extracting frames from the simulated 2 percent G1100 video\n",
    "video_name = 'test2percent_G1100_cut'\n",
    "path_to_source = 'data/' + video_name + '.avi'\n",
    "full_frames_name = 'sim_G1100'\n",
    "num_frames = 30\n",
    "extract_frames(video_name, path_to_source, num_frames, full_frames_name)"
   ]
  },
  {
   "cell_type": "code",
   "execution_count": 3,
   "metadata": {},
   "outputs": [],
   "source": [
    "# Function to increase contrast using histogram equalization\n",
    "def increase_contrast(image):\n",
    "    return cv.equalizeHist(image)\n",
    "\n",
    "# Path to the folder containing the images\n",
    "input_folder = 'sim_G1100'\n",
    "output_folder = 'sim_G1100_high_contrast'\n",
    "make_folder(output_folder)\n",
    "\n",
    "\n",
    "# Iterate through the images in the input folder\n",
    "for image_file in os.listdir(input_folder):\n",
    "    # Read the RGB image\n",
    "    image_path = os.path.join(input_folder, image_file)\n",
    "    rgb_image = cv.imread(image_path)\n",
    "\n",
    "    # Convert the RGB image to grayscale\n",
    "    gray_image = cv.cvtColor(rgb_image, cv.COLOR_BGR2GRAY)\n",
    "\n",
    "    # Increase the contrast of the grayscale image\n",
    "    contrast_image = increase_contrast(gray_image)\n",
    "\n",
    "    # Save the processed image to the output folder\n",
    "    output_path = os.path.join(output_folder, image_file)\n",
    "    cv.imwrite(output_path, contrast_image)"
   ]
  },
  {
   "cell_type": "code",
   "execution_count": 4,
   "metadata": {},
   "outputs": [],
   "source": [
    "#ONLY RUN ONCE\n",
    "# crop images for faster calculation \n",
    "# x and y are flipped to my understanding \n",
    "data_path = 'sim_G1100_high_contrast/'\n",
    "data_save = 'sim_G1100_crop_high_contrast/'\n",
    "make_folder(data_save)\n",
    "x_start = 0\n",
    "x_end = 100\n",
    "y_start = 0\n",
    "y_end = 50\n",
    "crop_images(data_path, data_save, x_start, x_end, y_start, y_end, color=False)"
   ]
  },
  {
   "cell_type": "code",
   "execution_count": 5,
   "metadata": {},
   "outputs": [],
   "source": [
    "def read_frames_from_folder(folder_path):\n",
    "    frames = []\n",
    "    for file in sorted(os.listdir(folder_path)):\n",
    "        if file.endswith('.jpg') or file.endswith('.png'):\n",
    "            frame = cv.imread(os.path.join(folder_path, file), cv.IMREAD_GRAYSCALE)\n",
    "            frames.append(frame)\n",
    "    return frames\n",
    "    "
   ]
  },
  {
   "cell_type": "code",
   "execution_count": 6,
   "metadata": {},
   "outputs": [],
   "source": [
    "def calculate_arrival_times(frames, threshold):\n",
    "    '''The threshold value corresponds to the intensity value used to determine the arrival time of the wave at each pixel.\n",
    "    If the pixel intensity at a given location exceeds this threshold, it is considered that the wave has arrived at that pixel.\n",
    "    The purpose of the threshold is to identify the point in time when the wave is considered to have reached the pixel,\n",
    "    based on the intensity of the pixel in the frames.\n",
    "    \n",
    "    Llow threshold value might result in detecting noise or other irrelevant fluctuations in the image as the wave propagation,\n",
    "    which can affect the accuracy of your arrival time calculations.\n",
    "    It's important to choose an appropriate threshold value that allows you to distinguish the actual wave propagation\n",
    "    from noise or other irrelevant fluctuations in the image. '''\n",
    "    \n",
    "    arrival_times = np.zeros(frames[0].shape)\n",
    "    for y in range(frames[0].shape[0]):\n",
    "        for x in range(frames[0].shape[1]):\n",
    "            for t in range(len(frames)):\n",
    "                if frames[t][y, x] >= threshold:\n",
    "                    arrival_times[y, x] = t\n",
    "                    break\n",
    "    return arrival_times\n",
    "    "
   ]
  },
  {
   "cell_type": "code",
   "execution_count": 7,
   "metadata": {},
   "outputs": [],
   "source": [
    "def calculate_distances(y_source, frame_height, px2um):\n",
    "    distances = np.zeros(frame_height)\n",
    "    for y in range(frame_height):\n",
    "        distances[y] = np.abs(y - y_source) * px2um\n",
    "    return distances\n"
   ]
  },
  {
   "cell_type": "code",
   "execution_count": 8,
   "metadata": {},
   "outputs": [],
   "source": [
    "def estimate_shear_wave_speed(arrival_times, distances, frame_rate):\n",
    "    shear_wave_speed = np.zeros(arrival_times.shape)\n",
    "    for y in range(arrival_times.shape[0]):\n",
    "        for x in range(arrival_times.shape[1]):\n",
    "            time_of_flight = arrival_times[y, x] / frame_rate\n",
    "            shear_wave_speed[y, x] = distances[y] / time_of_flight\n",
    "    return shear_wave_speed\n"
   ]
  },
  {
   "cell_type": "code",
   "execution_count": 9,
   "metadata": {},
   "outputs": [
    {
     "data": {
      "text/plain": [
       "255"
      ]
     },
     "execution_count": 9,
     "metadata": {},
     "output_type": "execute_result"
    }
   ],
   "source": [
    "folder_path = 'sim_G1100_crop_high_contrast'\n",
    "frames = read_frames_from_folder(folder_path)\n",
    "# get gray levels to decide on the \"threshold\"\n",
    "max_intensity = count_gray_levels(frames[0])\n",
    "max_intensity "
   ]
  },
  {
   "cell_type": "code",
   "execution_count": 44,
   "metadata": {},
   "outputs": [
    {
     "name": "stderr",
     "output_type": "stream",
     "text": [
      "/var/folders/vj/3_h6tw0d0c54j62h3ppjflww0000gn/T/ipykernel_99809/2957147873.py:6: RuntimeWarning: divide by zero encountered in double_scalars\n",
      "  shear_wave_speed[y, x] = distances[y] / time_of_flight\n"
     ]
    },
    {
     "data": {
      "text/plain": [
       "<matplotlib.colorbar.Colorbar at 0x7f7a239a98a0>"
      ]
     },
     "execution_count": 44,
     "metadata": {},
     "output_type": "execute_result"
    },
    {
     "data": {
      "image/png": "[encoded data removed]",
      "text/plain": [
       "<Figure size 640x480 with 2 Axes>"
      ]
     },
     "metadata": {},
     "output_type": "display_data"
    }
   ],
   "source": [
    "'''This script assumes that the wave source is at the top edge of the frames (y_source = 0) and propagates vertically downwards.\n",
    "You need to adjust the threshold, frame_rate, and y_source based on your specific data and application.'''\n",
    "\n",
    "folder_path = 'sim_G1100_crop_high_contrast'\n",
    "frames = read_frames_from_folder(folder_path)\n",
    "\n",
    "# # experimental videos\n",
    "# threshold = 25 # Adjust this threshold based on your data\n",
    "# frame_rate = 100e3  # Adjust the frame rate based on your data (in frames per second)\n",
    "# y_source = 0  # Adjust the y-coordinate of the wave source\n",
    "# px2um = 0.5*1e-6 # conversion factor for the pixels in SI units, here in [um]\n",
    "\n",
    "# simulated videos\n",
    "threshold = max_intensity // 2 # Adjust this threshold based on your data\n",
    "frame_rate = 1/((1/12500)/30) # 12500*85)/(85/len(frames))  # Adjust the frame rate based on your data (in frames per second)\n",
    "y_source = 0  # Adjust the y-coordinate of the wave source\n",
    "px2m = (1/1.286)*1e-6 # conversion factor for the pixels in SI units, here in [m]\n",
    "\n",
    "\n",
    "arrival_times = calculate_arrival_times(frames, threshold)\n",
    "distances = calculate_distances(y_source, frames[0].shape[0], px2m)\n",
    "shear_wave_speed = estimate_shear_wave_speed(arrival_times, distances, frame_rate)\n",
    "\n",
    "# Remove infinite and NaN values due to division by zero\n",
    "# shear_wave_speed = np.nan_to_num(shear_wave_speed, nan=0, posinf=0, neginf=0)\n",
    "\n",
    "# Normalize and save the resulting shear wave speed map\n",
    "# cv.normalize(shear_wave_speed, shear_wave_speed, 0, 255, cv.NORM_MINMAX)\n",
    "# cv.imwrite('shear_wave_speed_map.png', shear_wave_speed)\n",
    "plt.figure()\n",
    "plt.imshow(shear_wave_speed)\n",
    "plt.colorbar()\n"
   ]
  },
  {
   "cell_type": "code",
   "execution_count": 39,
   "metadata": {},
   "outputs": [
    {
     "data": {
      "text/plain": [
       "<matplotlib.colorbar.Colorbar at 0x7f7a22f55450>"
      ]
     },
     "execution_count": 39,
     "metadata": {},
     "output_type": "execute_result"
    },
    {
     "data": {
      "image/png": "[encoded data removed]",
      "text/plain": [
       "<Figure size 640x480 with 2 Axes>"
      ]
     },
     "metadata": {},
     "output_type": "display_data"
    }
   ],
   "source": [
    "limited_shear_wave_speed = shear_wave_speed[30:70,:]\n",
    "plt.figure()\n",
    "plt.imshow(limited_shear_wave_speed)\n",
    "plt.colorbar()"
   ]
  },
  {
   "cell_type": "code",
   "execution_count": 12,
   "metadata": {},
   "outputs": [
    {
     "data": {
      "text/plain": [
       "<matplotlib.colorbar.Colorbar at 0x7f7a219d5ab0>"
      ]
     },
     "execution_count": 12,
     "metadata": {},
     "output_type": "execute_result"
    },
    {
     "data": {
      "image/png": "[encoded data removed]",
      "text/plain": [
       "<Figure size 640x480 with 2 Axes>"
      ]
     },
     "metadata": {},
     "output_type": "display_data"
    }
   ],
   "source": [
    "# Remove infinite and NaN values due to division by zero\n",
    "shear_wave_speed = np.nan_to_num(shear_wave_speed, nan=0, posinf=0, neginf=0)\n",
    "\n",
    "# Normalize and save the resulting shear wave speed map\n",
    "# cv.normalize(shear_wave_speed, shear_wave_speed, 0, 255, cv.NORM_MINMAX)\n",
    "# cv.imwrite('shear_wave_speed_map.png', shear_wave_speed)\n",
    "plt.figure()\n",
    "plt.imshow(shear_wave_speed)\n",
    "plt.colorbar()"
   ]
  },
  {
   "cell_type": "code",
   "execution_count": 40,
   "metadata": {},
   "outputs": [
    {
     "name": "stdout",
     "output_type": "stream",
     "text": [
      "3.9657853810264383 [1.24972228 1.24972228 1.24972228 ... 3.35342146 3.35342146 3.35342146]\n"
     ]
    }
   ],
   "source": [
    "# finding median slope (positive), not including nan values\n",
    "copy_shear_wave_speed = limited_shear_wave_speed\n",
    "\n",
    "# nan_array = np.isnan(copy_shear_wave_speed)\n",
    "# not_nan_array = ~ nan_array\n",
    "# nan_array = np.isposinf(copy_shear_wave_speed)\n",
    "# not_nan_array = ~ nan_array\n",
    "# speed_notnan = copy_shear_wave_speed[not_nan_array]\n",
    "# replacement_value = np.median(speed_notnan)\n",
    "speed_notzeros = copy_shear_wave_speed[copy_shear_wave_speed != 0]\n",
    "replacement_value = np.median(speed_notzeros)\n",
    "print(replacement_value , speed_notzeros)\n"
   ]
  },
  {
   "cell_type": "code",
   "execution_count": null,
   "metadata": {},
   "outputs": [],
   "source": [
    "# # finding median slope (positive), not including nan values\n",
    "# copy_shear_wave_speed = shear_wave_speed\n",
    "\n",
    "# # nan_array = np.isnan(copy_shear_wave_speed)\n",
    "# # not_nan_array = ~ nan_array\n",
    "# nan_array = np.isposinf(copy_shear_wave_speed)\n",
    "# not_nan_array = ~ nan_array\n",
    "# speed_notnan = copy_shear_wave_speed[not_nan_array]\n",
    "# replacement_value = np.median(speed_notnan)\n",
    "# # speed_notzeros = copy_shear_wave_speed[copy_shear_wave_speed != 0]\n",
    "# # replacement_value = np.median(speed_notzeros)\n",
    "# print(replacement_value , speed_notnan)"
   ]
  },
  {
   "cell_type": "code",
   "execution_count": 41,
   "metadata": {},
   "outputs": [
    {
     "data": {
      "text/plain": [
       "array([[1.24972228, 1.24972228, 1.24972228, ..., 1.24972228, 1.24972228,\n",
       "        1.24972228],\n",
       "       [1.29137969, 1.29137969, 1.29137969, ..., 1.29137969, 1.29137969,\n",
       "        1.29137969],\n",
       "       [1.3330371 , 1.3330371 , 1.3330371 , ..., 1.3330371 , 1.3330371 ,\n",
       "        1.3330371 ],\n",
       "       ...,\n",
       "       [3.90746501, 3.90746501, 3.90746501, ..., 3.25622084, 3.25622084,\n",
       "        3.25622084],\n",
       "       [3.96578538, 3.96578538, 3.96578538, ..., 3.30482115, 3.30482115,\n",
       "        3.30482115],\n",
       "       [4.02410575, 4.02410575, 4.02410575, ..., 3.35342146, 3.35342146,\n",
       "        3.35342146]])"
      ]
     },
     "execution_count": 41,
     "metadata": {},
     "output_type": "execute_result"
    }
   ],
   "source": [
    "#same value as above\n",
    "for i in range(copy_shear_wave_speed.shape[0]):\n",
    "    for j in range(copy_shear_wave_speed.shape[1]):\n",
    "        if copy_shear_wave_speed[i,j]>10*replacement_value:\n",
    "            copy_shear_wave_speed[i,j] = replacement_value\n",
    "        elif np.isnan(copy_shear_wave_speed[i,j]):\n",
    "            copy_shear_wave_speed[i,j] = replacement_value\n",
    "copy_shear_wave_speed"
   ]
  },
  {
   "cell_type": "code",
   "execution_count": 42,
   "metadata": {},
   "outputs": [],
   "source": [
    "# calculate elasticity\n",
    "def elasticity_HT (speed, density):\n",
    "    mu = (speed **2) * density\n",
    "    return mu"
   ]
  },
  {
   "cell_type": "code",
   "execution_count": 43,
   "metadata": {},
   "outputs": [
    {
     "data": {
      "text/plain": [
       "<matplotlib.colorbar.Colorbar at 0x7f7a22d096c0>"
      ]
     },
     "execution_count": 43,
     "metadata": {},
     "output_type": "execute_result"
    },
    {
     "data": {
      "image/png": "[encoded data removed]",
      "text/plain": [
       "<Figure size 640x480 with 2 Axes>"
      ]
     },
     "metadata": {},
     "output_type": "display_data"
    }
   ],
   "source": [
    "# Compute elasticity\n",
    "density = 1000\n",
    "mu = elasticity_HT(copy_shear_wave_speed, density) \n",
    "mu_2dec = np.round(mu,2)\n",
    "plt.figure()\n",
    "plt.imshow(mu_2dec)\n",
    "plt.colorbar()"
   ]
  },
  {
   "cell_type": "code",
   "execution_count": 33,
   "metadata": {},
   "outputs": [],
   "source": [
    "def get_non_zero_elements(array):\n",
    "    non_zero_indices = np.nonzero(array)\n",
    "    non_zero_values = array[non_zero_indices]\n",
    "    return non_zero_values"
   ]
  },
  {
   "cell_type": "code",
   "execution_count": 34,
   "metadata": {},
   "outputs": [
    {
     "data": {
      "text/plain": [
       "nan"
      ]
     },
     "execution_count": 34,
     "metadata": {},
     "output_type": "execute_result"
    }
   ],
   "source": [
    "mu_nonzero = get_non_zero_elements(mu_2dec)\n",
    "mu_median = np.median(mu_nonzero)\n",
    "mu_median"
   ]
  }
 ],
 "metadata": {
  "kernelspec": {
   "display_name": "Python 3.10.9 ('elastography')",
   "language": "python",
   "name": "python3"
  },
  "language_info": {
   "codemirror_mode": {
    "name": "ipython",
    "version": 3
   },
   "file_extension": ".py",
   "mimetype": "text/x-python",
   "name": "python",
   "nbconvert_exporter": "python",
   "pygments_lexer": "ipython3",
   "version": "3.10.9"
  },
  "orig_nbformat": 4,
  "vscode": {
   "interpreter": {
    "hash": "a3d30da45adb134a765899144bd3db66488bc29deb4a507e0d3f4d9edf9785fb"
   }
  }
 },
 "nbformat": 4,
 "nbformat_minor": 2
}
