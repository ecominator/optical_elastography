{
 "cells": [
  {
   "cell_type": "code",
   "execution_count": 1,
   "metadata": {},
   "outputs": [],
   "source": [
    "#import functions\n",
    "import numpy as np\n",
    "from numpy import linalg\n",
    "\n",
    "import cv2 as cv\n",
    "import scipy\n",
    "from scipy import signal\n",
    "\n",
    "import matplotlib\n",
    "import matplotlib.pyplot as plt\n",
    "import matplotlib as mpl\n",
    "\n",
    "import os\n",
    "import shutil\n",
    "\n",
    "from utils import resize_percent, edge_detect, count_gray_levels, fill\n",
    "# from utils import show_image"
   ]
  },
  {
   "cell_type": "code",
   "execution_count": 2,
   "metadata": {},
   "outputs": [],
   "source": [
    "#cross correlation function\n",
    "\n",
    "def cross_correlation (frNum, path_to_images, pixel, kernel, x_disp=False, y_disp=False):\n",
    "    image_1_name = os.fsdecode(os.listdir(path_to_images)[0])\n",
    "    image_1 = cv.imread(path_to_images + f'{image_1_name}', cv.IMREAD_GRAYSCALE)\n",
    "    corr_full_x = np.zeros([image_1.shape[1], frNum])\n",
    "    corr_full_y = np.zeros([image_1.shape[0], frNum])\n",
    "    k=0\n",
    "    while k<frNum:\n",
    "        image_name = str(k) + '.jpg'\n",
    "        image_next = cv.imread(path_to_images+f'{image_name}', cv.IMREAD_GRAYSCALE)\n",
    "        if x_disp:\n",
    "            arr_1 = np.ones([kernel,]) * image_1[pixel[0], pixel[1]]\n",
    "            corr = signal.correlate(image_next[pixel[0], :], arr_1, mode='same')\n",
    "            corr = np.reshape(cv.normalize(corr, None, 1, 256, cv.NORM_MINMAX), (image_1.shape[1],)) #normalization added\n",
    "            corr_full_x[:, k] = corr\n",
    "        if y_disp:\n",
    "            arr_1 = np.ones([kernel,]) * image_1[pixel[0], pixel[1]]\n",
    "            corr = signal.correlate(image_next[:, pixel[1]], np.transpose(arr_1), mode='same')\n",
    "            corr = np.reshape(cv.normalize(corr, None, 1, 256, cv.NORM_MINMAX), (image_1.shape[0],)) #normalization added\n",
    "            corr_full_y[:, k] = corr          \n",
    "        k+=1\n",
    "    \n",
    "    return corr_full_x, corr_full_y"
   ]
  },
  {
   "cell_type": "code",
   "execution_count": 3,
   "metadata": {},
   "outputs": [],
   "source": [
    "'''Cropping the images''' \n",
    "\n",
    "'- data_path: path to the folder with the images to crop'\n",
    "'- data_save: path to the folder to save the cropped images'\n",
    "'- x_start: a starting x coordinate to crop an image'\n",
    "'- x_end: an ending x coordinate to crop an image'\n",
    "'- y_start: a starting y coordinate to crop an image'\n",
    "'- y_end: an ending y coordinate to crop an image'\n",
    "'- color: indicate if the images to crop are colored'\n",
    "\n",
    "def crop_images(data_path, data_save, x_start, x_end, y_start, y_end, color=False):\n",
    "    for image in os.listdir(data_path):\n",
    "        image_name = os.fsdecode(image)\n",
    "        if color:\n",
    "            img_next = cv.imread(data_path+f'{image_name}', cv.IMREAD_COLOR)\n",
    "            cropped_img = img_next[x_start : x_end, y_start : y_end, :]\n",
    "            cv.imwrite(data_save + f'{image_name}', cropped_img)\n",
    "        else:\n",
    "            img_next = cv.imread(data_path+f'{image_name}', cv.IMREAD_GRAYSCALE)\n",
    "            cropped_img = img_next[x_start : x_end, y_start : y_end]\n",
    "            cv.imwrite(data_save + f'{image_name}', cropped_img)"
   ]
  },
  {
   "cell_type": "code",
   "execution_count": 4,
   "metadata": {},
   "outputs": [],
   "source": [
    "# #ONLY RUN ONCE\n",
    "# #making folders\n",
    "os.mkdir('sim_G600_1000Hz')\n",
    "os.mkdir('sim_G600_1000Hz_crop')"
   ]
  },
  {
   "cell_type": "code",
   "execution_count": 6,
   "metadata": {},
   "outputs": [
    {
     "name": "stderr",
     "output_type": "stream",
     "text": [
      "[ WARN:0@95.325] global /private/var/folders/sy/f16zz6x50xz3113nwtb9bvq00000gp/T/abs_5a1v4y7k9y/croot/opencv-suite_1676472757237/work/modules/videoio/src/cap_gstreamer.cpp (862) isPipelinePlaying OpenCV | GStreamer warning: GStreamer: pipeline have not been created\n",
      "[ERROR:0@95.325] global /private/var/folders/sy/f16zz6x50xz3113nwtb9bvq00000gp/T/abs_5a1v4y7k9y/croot/opencv-suite_1676472757237/work/modules/videoio/src/cap.cpp (166) open VIDEOIO(GSTREAMER): raised OpenCV exception:\n",
      "\n",
      "OpenCV(4.6.0) /private/var/folders/sy/f16zz6x50xz3113nwtb9bvq00000gp/T/abs_5a1v4y7k9y/croot/opencv-suite_1676472757237/work/modules/core/src/utils/filesystem.cpp:580: error: (-213:The function/feature is not implemented)  in function 'exists'\n",
      "\n",
      "\n"
     ]
    },
    {
     "name": "stdout",
     "output_type": "stream",
     "text": [
      "No frames grabbed!\n"
     ]
    }
   ],
   "source": [
    "# #ONLY RUN ONCE\n",
    "# #extracting frames from the video\n",
    "video_name = 'sim_G600_1000Hz_cut'\n",
    "path_to_source = 'data/' + video_name + '.avi'\n",
    "cap = cv.VideoCapture(path_to_source)\n",
    "num_frames = 30\n",
    "l=0\n",
    "m=0\n",
    "while l <= num_frames:\n",
    "    ret, frame = cap.read()\n",
    "    if not ret: \n",
    "        print('No frames grabbed!')\n",
    "        break\n",
    "    cv.imwrite(f'sim_G600_1000Hz/{m}.jpg', frame)\n",
    "    l+=1\n",
    "    m+=1"
   ]
  },
  {
   "cell_type": "code",
   "execution_count": 7,
   "metadata": {},
   "outputs": [
    {
     "data": {
      "text/plain": [
       "(136, 134)"
      ]
     },
     "execution_count": 7,
     "metadata": {},
     "output_type": "execute_result"
    }
   ],
   "source": [
    "data_path = 'sim_G600_1000Hz/'\n",
    "files_in_directory = os.listdir(data_path)\n",
    "images = [file for file in files_in_directory if file.endswith(('jpg', 'png', 'jpeg', 'tiff', 'bmp', 'gif'))]\n",
    "if not images:\n",
    "    print(\"No images found in the directory.\")\n",
    "first_image_file = images[0]\n",
    "img = cv.imread(os.path.join(data_path, first_image_file))\n",
    "img.shape[:2]"
   ]
  },
  {
   "cell_type": "code",
   "execution_count": 13,
   "metadata": {},
   "outputs": [],
   "source": [
    "# #ONLY RUN ONCE\n",
    "# # crop images for faster calculation \n",
    "data_path = 'sim_G600_1000Hz/'\n",
    "data_save = 'sim_G600_1000Hz_crop/'\n",
    "x_start = 0\n",
    "x_end = 100\n",
    "y_start = 0\n",
    "y_end = 100\n",
    "crop_images(data_path, data_save, x_start, x_end, y_start, y_end, color=False)"
   ]
  },
  {
   "cell_type": "code",
   "execution_count": 16,
   "metadata": {},
   "outputs": [
    {
     "name": "stdout",
     "output_type": "stream",
     "text": [
      "[  1.           1.           1.           1.          12.08695652\n",
      "  12.08695652  12.08695652  23.17391304  12.08695652  12.08695652\n",
      "  23.17391304  34.26086957  34.26086957  45.34782609  45.34782609\n",
      "  45.34782609  67.52173913  67.52173913  67.52173913  67.52173913\n",
      "  78.60869565  78.60869565  78.60869565  89.69565217 100.7826087\n",
      " 100.7826087  100.7826087  111.86956522 111.86956522 122.95652174\n",
      " 122.95652174 122.95652174 145.13043478 145.13043478 145.13043478\n",
      " 156.2173913  156.2173913  167.30434783 167.30434783 167.30434783\n",
      " 167.30434783 167.30434783 167.30434783 178.39130435 178.39130435\n",
      " 189.47826087 189.47826087 189.47826087 200.56521739 200.56521739\n",
      " 200.56521739 211.65217391 211.65217391 222.73913043 222.73913043\n",
      " 222.73913043 222.73913043 222.73913043 222.73913043 233.82608696\n",
      " 233.82608696 244.91304348 244.91304348 244.91304348 244.91304348\n",
      " 244.91304348 244.91304348 244.91304348 244.91304348 244.91304348\n",
      " 244.91304348 244.91304348 256.         256.         256.\n",
      " 256.         256.         256.         256.         256.\n",
      " 256.         256.         256.         256.         256.\n",
      " 256.         256.         256.         256.         256.\n",
      " 256.         256.         256.         256.         256.\n",
      " 256.         244.91304348 244.91304348 244.91304348 244.91304348]\n"
     ]
    },
    {
     "data": {
      "image/png": "[encoded data removed]",
      "text/plain": [
       "<Figure size 640x480 with 1 Axes>"
      ]
     },
     "metadata": {},
     "output_type": "display_data"
    }
   ],
   "source": [
    "# implement slope measurement for one pixel\n",
    "# 100x100 pixels\n",
    "#iterate through each pixel to get a correlation result\n",
    "frNum = 10\n",
    "path_to_images = 'sim_G600_1000Hz_crop/'\n",
    "# path_to_images = 'sim_1perc_crop/'\n",
    "# path_to_images = 'sim_05perc_crop/'\n",
    "# path_to_images = 'exp_2perc_crop/'\n",
    "kernel = 1\n",
    "threshold_bin = 0\n",
    "\n",
    "pixel_x = 20\n",
    "pixel_y = 10\n",
    "pixel_array = []\n",
    "for x in range(0, pixel_x + 1):\n",
    "     for y in range(0, pixel_y + 1):\n",
    "        pixel = [pixel_x, pixel_y]\n",
    "pixel_array.append(pixel)         \n",
    "         \n",
    "#corr_full_y is 100x29 matrix which represents one pixel      \n",
    "_, corr_full_y = cross_correlation(frNum, path_to_images, pixel_array[0], kernel, x_disp=False, y_disp=True)\n",
    "\n",
    "plt.imshow(corr_full_y)\n",
    "# print(corr_full_y.shape[1])\n",
    "print(corr_full_y[:,-1])"
   ]
  },
  {
   "cell_type": "code",
   "execution_count": 15,
   "metadata": {},
   "outputs": [
    {
     "name": "stdout",
     "output_type": "stream",
     "text": [
      "[[0. 0. 0. ... 0. 0. 0.]\n",
      " [0. 0. 0. ... 0. 0. 0.]\n",
      " [0. 0. 0. ... 0. 0. 0.]\n",
      " ...\n",
      " [1. 1. 1. ... 1. 1. 1.]\n",
      " [1. 1. 1. ... 1. 1. 1.]\n",
      " [1. 1. 1. ... 1. 1. 1.]]\n"
     ]
    },
    {
     "data": {
      "image/png": "[encoded data removed]",
      "text/plain": [
       "<Figure size 640x480 with 1 Axes>"
      ]
     },
     "metadata": {},
     "output_type": "display_data"
    }
   ],
   "source": [
    "#clean version\n",
    "T=120\n",
    "image = np.copy(corr_full_y)\n",
    "image[corr_full_y<T] = 0\n",
    "image[corr_full_y>=T] = 1\n",
    "plt.imshow(image)\n",
    "print(image)"
   ]
  },
  {
   "cell_type": "code",
   "execution_count": 23,
   "metadata": {},
   "outputs": [
    {
     "name": "stdout",
     "output_type": "stream",
     "text": [
      "[18]\n",
      "[49]\n",
      "[3.1]\n"
     ]
    }
   ],
   "source": [
    "non0_firstCol = np.argwhere(image[:,0]==1)\n",
    "zero_lastCol = np.argwhere(image[:,-1]==0)\n",
    "print(non0_firstCol[0])\n",
    "print(zero_lastCol[-1])\n",
    "slope = (zero_lastCol[-1] - non0_firstCol[0])/frNum\n",
    "print(slope)\n"
   ]
  },
  {
   "cell_type": "code",
   "execution_count": 24,
   "metadata": {},
   "outputs": [
    {
     "name": "stdout",
     "output_type": "stream",
     "text": [
      "[[0.00000000e+00 0.00000000e+00 0.00000000e+00 4.43304818e-03\n",
      "  5.84386308e-02 3.00474860e-01 6.99525140e-01 9.41561369e-01\n",
      "  9.95566952e-01 1.00000000e+00]\n",
      " [0.00000000e+00 0.00000000e+00 0.00000000e+00 4.43304818e-03\n",
      "  5.84386308e-02 3.00474860e-01 6.99525140e-01 9.41561369e-01\n",
      "  9.95566952e-01 1.00000000e+00]\n",
      " [0.00000000e+00 0.00000000e+00 0.00000000e+00 4.43304818e-03\n",
      "  5.84386308e-02 3.00474860e-01 6.99525140e-01 9.41561369e-01\n",
      "  9.95566952e-01 1.00000000e+00]\n",
      " [0.00000000e+00 0.00000000e+00 0.00000000e+00 4.41339626e-03\n",
      "  5.81992214e-02 2.99401902e-01 6.97756131e-01 9.40488411e-01\n",
      "  9.95327542e-01 9.99960696e-01]\n",
      " [0.00000000e+00 0.00000000e+00 0.00000000e+00 4.17398691e-03\n",
      "  5.52826185e-02 2.86330594e-01 6.76205188e-01 9.27417103e-01\n",
      "  9.92410940e-01 9.99481877e-01]\n",
      " [0.00000000e+00 0.00000000e+00 0.00000000e+00 3.10102864e-03\n",
      "  4.22113109e-02 2.27749058e-01 5.79620563e-01 8.68835567e-01\n",
      "  9.79339632e-01 9.97335961e-01]\n",
      " [0.00000000e+00 0.00000000e+00 0.00000000e+00 1.33201953e-03\n",
      "  2.06603681e-02 1.31164433e-01 4.20379437e-01 7.72250942e-01\n",
      "  9.57788689e-01 9.93797943e-01]\n",
      " [0.00000000e+00 0.00000000e+00 0.00000000e+00 2.59061266e-04\n",
      "  7.58906048e-03 7.25828966e-02 3.23794812e-01 7.13669406e-01\n",
      "  9.44717382e-01 9.91652026e-01]\n",
      " [0.00000000e+00 0.00000000e+00 0.00000000e+00 1.96519161e-05\n",
      "  4.67245752e-03 5.95115891e-02 3.02243869e-01 7.00598098e-01\n",
      "  9.41800779e-01 9.91173207e-01]\n",
      " [0.00000000e+00 0.00000000e+00 0.00000000e+00 0.00000000e+00\n",
      "  4.43304818e-03 5.84386308e-02 3.00474860e-01 6.99525140e-01\n",
      "  9.41561369e-01 9.91133904e-01]\n",
      " [0.00000000e+00 0.00000000e+00 0.00000000e+00 0.00000000e+00\n",
      "  4.43304818e-03 5.84386308e-02 3.00474860e-01 6.99525140e-01\n",
      "  9.41561369e-01 9.91133904e-01]\n",
      " [0.00000000e+00 0.00000000e+00 0.00000000e+00 0.00000000e+00\n",
      "  4.43304818e-03 5.84386308e-02 3.00474860e-01 6.99525140e-01\n",
      "  9.41561369e-01 9.91133904e-01]\n",
      " [0.00000000e+00 0.00000000e+00 0.00000000e+00 0.00000000e+00\n",
      "  4.43304818e-03 5.84386308e-02 3.00474860e-01 6.99525140e-01\n",
      "  9.41561369e-01 9.91133904e-01]\n",
      " [0.00000000e+00 0.00000000e+00 0.00000000e+00 0.00000000e+00\n",
      "  4.43304818e-03 5.84386308e-02 3.00474860e-01 6.99525140e-01\n",
      "  9.41561369e-01 9.91133904e-01]\n",
      " [0.00000000e+00 0.00000000e+00 0.00000000e+00 0.00000000e+00\n",
      "  4.43304818e-03 5.84386308e-02 3.00474860e-01 6.99525140e-01\n",
      "  9.41561369e-01 9.91133904e-01]\n",
      " [1.76900911e-03 1.07295826e-03 2.39409349e-04 1.96519161e-05\n",
      "  4.43304818e-03 5.84386308e-02 3.00474860e-01 6.99525140e-01\n",
      "  9.41561369e-01 9.91133904e-01]\n",
      " [2.33199520e-02 1.41442658e-02 3.15601230e-03 2.59061266e-04\n",
      "  4.41339626e-03 5.81992214e-02 2.99401902e-01 6.97756131e-01\n",
      "  9.40468759e-01 9.90655085e-01]\n",
      " [1.19904577e-01 7.27258022e-02 1.62273199e-02 1.33201953e-03\n",
      "  4.17398691e-03 5.52826185e-02 2.86330594e-01 6.76205188e-01\n",
      "  9.27158042e-01 9.84821879e-01]\n",
      " [2.81291619e-01 1.71318846e-01 3.88708729e-02 3.34043799e-03\n",
      "  3.12068056e-03 4.22113109e-02 2.27749058e-01 5.79620563e-01\n",
      "  8.67503547e-01 9.58679264e-01]\n",
      " [4.04018859e-01 2.54367928e-01 6.52528974e-02 7.32999921e-03\n",
      "  1.59108080e-03 2.06603681e-02 1.31164433e-01 4.20379437e-01\n",
      "  7.69149913e-01 9.15577378e-01]\n",
      " [5.43211694e-01 3.78187778e-01 1.29593004e-01 2.17136744e-02\n",
      "  1.83049015e-03 7.60871240e-03 7.25828966e-02 3.23794812e-01\n",
      "  7.09495419e-01 8.89434763e-01]\n",
      " [7.44022462e-01 5.73622583e-01 2.51049358e-01 5.91975441e-02\n",
      "  9.11866024e-03 6.22423449e-03 5.95312410e-02 3.01170911e-01\n",
      "  6.94176283e-01 8.81455641e-01]\n",
      " [8.87806969e-01 7.46089023e-01 4.23276388e-01 1.65472638e-01\n",
      "  5.78655246e-02 2.28062846e-02 5.86976921e-02 2.86330594e-01\n",
      "  6.68616127e-01 8.54834207e-01]\n",
      " [9.59197386e-01 8.83054468e-01 6.67481075e-01 4.20140028e-01\n",
      "  2.34822038e-01 9.51551794e-02 5.97706503e-02 2.27749058e-01\n",
      "  5.58960195e-01 7.37671134e-01]\n",
      " [9.91023936e-01 9.68037333e-01 8.83293878e-01 7.34786724e-01\n",
      "  5.03738748e-01 2.12594696e-01 6.15396594e-02 1.31164433e-01\n",
      "  3.78168126e-01 5.44501884e-01]\n",
      " [9.99003059e-01 9.95492316e-01 9.76497665e-01 9.03024193e-01\n",
      "  6.61821513e-01 2.83413991e-01 6.26126177e-02 7.25828966e-02\n",
      "  2.68512194e-01 4.27338811e-01]\n",
      " [9.99960696e-01 9.99740939e-01 9.94274236e-01 9.38958811e-01\n",
      "  6.97756131e-01 3.00951154e-01 6.39249853e-02 5.97509984e-02\n",
      "  2.44064300e-01 4.01196196e-01]\n",
      " [1.00000000e+00 1.00000000e+00 9.95826013e-01 9.44717382e-01\n",
      "  7.13669406e-01 3.23794812e-01 7.70159448e-02 6.15946431e-02\n",
      "  2.42295291e-01 3.99050280e-01]\n",
      " [1.00000000e+00 1.00000000e+00 9.96898971e-01 9.57788689e-01\n",
      "  7.72250942e-01 4.20379437e-01 1.35597481e-01 7.46659507e-02\n",
      "  2.43368249e-01 3.99050280e-01]\n",
      " [1.00000000e+00 1.00000000e+00 9.98667980e-01 9.79339632e-01\n",
      "  8.68835567e-01 5.79620563e-01 2.32182106e-01 9.62168935e-02\n",
      "  2.45137258e-01 3.99050280e-01]\n",
      " [1.00000000e+00 1.00000000e+00 9.99740939e-01 9.92410940e-01\n",
      "  9.27417103e-01 6.76205188e-01 2.90763643e-01 1.09288201e-01\n",
      "  2.46210216e-01 3.99050280e-01]\n",
      " [1.00000000e+00 1.00000000e+00 9.99980348e-01 9.95327542e-01\n",
      "  9.40488411e-01 6.97756131e-01 3.03834950e-01 1.12204804e-01\n",
      "  2.46449626e-01 3.99050280e-01]\n",
      " [1.00000000e+00 1.00000000e+00 1.00000000e+00 9.95566952e-01\n",
      "  9.41561369e-01 6.99525140e-01 3.04888256e-01 1.12204804e-01\n",
      "  2.45396319e-01 3.97281271e-01]\n",
      " [1.00000000e+00 1.00000000e+00 1.00000000e+00 9.95566952e-01\n",
      "  9.41561369e-01 6.99525140e-01 3.04648847e-01 1.09288201e-01\n",
      "  2.32325012e-01 3.75730328e-01]\n",
      " [1.00000000e+00 1.00000000e+00 1.00000000e+00 9.95566952e-01\n",
      "  9.41561369e-01 6.99525140e-01 3.03575889e-01 9.62168935e-02\n",
      "  1.73743475e-01 2.79145703e-01]\n",
      " [1.00000000e+00 1.00000000e+00 1.00000000e+00 9.95566952e-01\n",
      "  9.41561369e-01 6.99525140e-01 3.01806880e-01 7.46659507e-02\n",
      "  7.71588504e-02 1.19904577e-01]\n",
      " [1.00000000e+00 1.00000000e+00 1.00000000e+00 9.95566952e-01\n",
      "  9.41561369e-01 6.99525140e-01 3.00733921e-01 6.15946431e-02\n",
      "  1.85773140e-02 2.33199520e-02]\n",
      " [1.00000000e+00 1.00000000e+00 1.00000000e+00 9.95566952e-01\n",
      "  9.41561369e-01 6.99525140e-01 3.00494512e-01 5.86780401e-02\n",
      "  5.50600644e-03 1.76900911e-03]\n",
      " [1.00000000e+00 1.00000000e+00 1.00000000e+00 9.95566952e-01\n",
      "  9.41561369e-01 6.99525140e-01 3.00474860e-01 5.84386308e-02\n",
      "  4.43304818e-03 0.00000000e+00]\n",
      " [1.00000000e+00 1.00000000e+00 1.00000000e+00 9.95566952e-01\n",
      "  9.41561369e-01 6.99525140e-01 3.00474860e-01 5.84386308e-02\n",
      "  4.43304818e-03 0.00000000e+00]\n",
      " [1.00000000e+00 1.00000000e+00 1.00000000e+00 9.95566952e-01\n",
      "  9.41561369e-01 6.99525140e-01 3.00474860e-01 5.84386308e-02\n",
      "  4.43304818e-03 0.00000000e+00]\n",
      " [1.00000000e+00 1.00000000e+00 1.00000000e+00 9.95566952e-01\n",
      "  9.41561369e-01 6.99525140e-01 3.00474860e-01 5.84386308e-02\n",
      "  4.43304818e-03 0.00000000e+00]\n",
      " [1.00000000e+00 1.00000000e+00 1.00000000e+00 9.95586604e-01\n",
      "  9.41800779e-01 7.00598098e-01 3.02243869e-01 5.95115891e-02\n",
      "  4.67245752e-03 3.93038322e-05]\n",
      " [1.00000000e+00 1.00000000e+00 1.00000000e+00 9.95826013e-01\n",
      "  9.44717382e-01 7.13669406e-01 3.23794812e-01 7.25828966e-02\n",
      "  7.58906048e-03 5.18122531e-04]\n",
      " [1.00000000e+00 1.00000000e+00 1.00000000e+00 9.96898971e-01\n",
      "  9.57788689e-01 7.72250942e-01 4.20379437e-01 1.31164433e-01\n",
      "  2.06603681e-02 2.66403906e-03]\n",
      " [1.00000000e+00 1.00000000e+00 1.00000000e+00 9.98667980e-01\n",
      "  9.79339632e-01 8.68835567e-01 5.79620563e-01 2.27749058e-01\n",
      "  4.22113109e-02 6.20205729e-03]\n",
      " [1.00000000e+00 1.00000000e+00 1.00000000e+00 9.99740939e-01\n",
      "  9.92410940e-01 9.27417103e-01 6.76205188e-01 2.86330594e-01\n",
      "  5.52826185e-02 8.34797382e-03]\n",
      " [1.00000000e+00 1.00000000e+00 1.00000000e+00 9.99980348e-01\n",
      "  9.95327542e-01 9.40488411e-01 6.97756131e-01 2.99401902e-01\n",
      "  5.81992214e-02 8.82679252e-03]\n",
      " [1.00000000e+00 1.00000000e+00 1.00000000e+00 1.00000000e+00\n",
      "  9.95566952e-01 9.41561369e-01 6.99525140e-01 3.00474860e-01\n",
      "  5.84386308e-02 8.86609635e-03]\n",
      " [1.00000000e+00 1.00000000e+00 1.00000000e+00 1.00000000e+00\n",
      "  9.95566952e-01 9.41561369e-01 6.99525140e-01 3.00474860e-01\n",
      "  5.84386308e-02 8.86609635e-03]]\n"
     ]
    },
    {
     "data": {
      "image/png": "[encoded data removed]",
      "text/plain": [
       "<Figure size 640x480 with 1 Axes>"
      ]
     },
     "metadata": {},
     "output_type": "display_data"
    }
   ],
   "source": [
    "img = image.copy()\n",
    "img_bl = cv.GaussianBlur(src=img, ksize=(7, 7), sigmaX=1)\n",
    "plt.imshow(img_bl)\n",
    "print(img_bl)"
   ]
  },
  {
   "cell_type": "code",
   "execution_count": 5,
   "metadata": {},
   "outputs": [],
   "source": [
    "# Save the Numpy array as Image\n",
    "image_filename = \"image0_2perc.jpeg\"\n",
    "i=0\n",
    "saved_image = plt.imsave(fname=image_filename, arr=image)"
   ]
  },
  {
   "cell_type": "code",
   "execution_count": null,
   "metadata": {},
   "outputs": [],
   "source": [
    "img = cv.imread(filename=image_filename, flags=cv.IMREAD_GRAYSCALE)\n",
    "plt.imshow(image)\n",
    "print(image)"
   ]
  },
  {
   "cell_type": "code",
   "execution_count": 25,
   "metadata": {},
   "outputs": [
    {
     "name": "stdout",
     "output_type": "stream",
     "text": [
      "3.957000305750898\n"
     ]
    },
    {
     "data": {
      "image/png": "[encoded data removed]",
      "text/plain": [
       "<Figure size 640x480 with 1 Axes>"
      ]
     },
     "metadata": {},
     "output_type": "display_data"
    }
   ],
   "source": [
    "#example: fitting a line to cross correlation clean version from above (flipped)\n",
    "plt.imshow(image)\n",
    "#finding where the value is zero in the image matrix and filling that region with scatter points\n",
    "zero_coords = np.argwhere(image==0)\n",
    "# plt.xlim(0,10)\n",
    "# plt.ylim(0,80)\n",
    "# plt.scatter(zero_coords[:,1],zero_coords[:,0], color='purple')\n",
    "\n",
    "#find line of best fit for scatter\n",
    "slope, b = np.polyfit(zero_coords[:,1], zero_coords[:,0], 1)\n",
    "if slope<0:\n",
    "    zero_coords = np.argwhere(image==1)\n",
    "    slope, b = np.polyfit(zero_coords[:,1], zero_coords[:,0], 1)\n",
    "else:\n",
    "    slope = slope\n",
    "\n",
    "\n",
    "#add line of best fit to plot\n",
    "plt.plot(zero_coords[:,1], slope*zero_coords[:,1]+b, color='black', linestyle='-', linewidth=3)\n",
    "\n",
    "#add fitted regression equation to plot\n",
    "plt.text(16, 60, 'y = ' + '{:.2f}'.format(b) + ' + {:.2f}'.format(slope) + 'x', size=14)\n",
    "print(slope)"
   ]
  }
 ],
 "metadata": {
  "kernelspec": {
   "display_name": "Python 3.10.9 ('elastography')",
   "language": "python",
   "name": "python3"
  },
  "language_info": {
   "codemirror_mode": {
    "name": "ipython",
    "version": 3
   },
   "file_extension": ".py",
   "mimetype": "text/x-python",
   "name": "python",
   "nbconvert_exporter": "python",
   "pygments_lexer": "ipython3",
   "version": "3.10.9"
  },
  "orig_nbformat": 4,
  "vscode": {
   "interpreter": {
    "hash": "a3d30da45adb134a765899144bd3db66488bc29deb4a507e0d3f4d9edf9785fb"
   }
  }
 },
 "nbformat": 4,
 "nbformat_minor": 2
}
