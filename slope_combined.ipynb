{
 "cells": [
  {
   "cell_type": "code",
   "execution_count": 1,
   "metadata": {},
   "outputs": [],
   "source": [
    "#import functions\n",
    "import numpy as np\n",
    "from numpy import linalg\n",
    "\n",
    "import cv2 as cv\n",
    "import scipy\n",
    "from scipy import signal\n",
    "\n",
    "import matplotlib\n",
    "import matplotlib.pyplot as plt\n",
    "import matplotlib as mpl\n",
    "\n",
    "import os\n",
    "import shutil\n",
    "\n",
    "from utils import resize_percent, edge_detect, count_gray_levels, fill\n",
    "# from utils import show_image"
   ]
  },
  {
   "cell_type": "code",
   "execution_count": 108,
   "metadata": {},
   "outputs": [],
   "source": [
    "#cross correlation function\n",
    "\n",
    "def cross_correlation (frNum, path_to_images, pixel, kernel, x_disp=False, y_disp=False):\n",
    "    image_1_name = os.fsdecode(os.listdir(path_to_images)[0])\n",
    "    image_1 = cv.imread(path_to_images + f'{image_1_name}', cv.IMREAD_GRAYSCALE)\n",
    "    corr_full_x = np.zeros([image_1.shape[1], frNum])\n",
    "    corr_full_y = np.zeros([image_1.shape[0], frNum])\n",
    "    k=0\n",
    "    while k<frNum:\n",
    "        image_name = str(k) + '.jpg'\n",
    "        image_next = cv.imread(path_to_images+f'{image_name}', cv.IMREAD_GRAYSCALE)\n",
    "        if x_disp:\n",
    "            arr_1 = np.ones([kernel,]) * image_1[pixel[0], pixel[1]]\n",
    "            corr = signal.correlate(image_next[pixel[0], :], arr_1, mode='same')\n",
    "            corr = np.reshape(cv.normalize(corr, None, 1, 256, cv.NORM_MINMAX), (image_1.shape[1],)) #normalization added\n",
    "            corr_full_x[:, k] = corr\n",
    "        if y_disp:\n",
    "            arr_1 = np.ones([kernel,]) * image_1[pixel[0], pixel[1]]\n",
    "            corr = signal.correlate(image_next[:, pixel[1]], np.transpose(arr_1), mode='same')\n",
    "            corr = np.reshape(cv.normalize(corr, None, 1, 256, cv.NORM_MINMAX), (image_1.shape[0],)) #normalization added\n",
    "            corr_full_y[:, k] = corr          \n",
    "        k+=1\n",
    "    \n",
    "    return corr_full_x, corr_full_y"
   ]
  },
  {
   "cell_type": "code",
   "execution_count": 102,
   "metadata": {},
   "outputs": [],
   "source": [
    "'''Cropping the images''' \n",
    "\n",
    "'- data_path: path to the folder with the images to crop'\n",
    "'- data_save: path to the folder to save the cropped images'\n",
    "'- x_start: a starting x coordinate to crop an image'\n",
    "'- x_end: an ending x coordinate to crop an image'\n",
    "'- y_start: a starting y coordinate to crop an image'\n",
    "'- y_end: an ending y coordinate to crop an image'\n",
    "'- color: indicate if the images to crop are colored'\n",
    "\n",
    "def crop_images(data_path, data_save, x_start, x_end, y_start, y_end, color=False):\n",
    "    for image in os.listdir(data_path):\n",
    "        image_name = os.fsdecode(image)\n",
    "        if color:\n",
    "            img_next = cv.imread(data_path+f'{image_name}', cv.IMREAD_COLOR)\n",
    "            cropped_img = img_next[x_start : x_end, y_start : y_end, :]\n",
    "            cv.imwrite(data_save + f'{image_name}', cropped_img)\n",
    "        else:\n",
    "            img_next = cv.imread(data_path+f'{image_name}', cv.IMREAD_GRAYSCALE)\n",
    "            cropped_img = img_next[x_start : x_end, y_start : y_end]\n",
    "            cv.imwrite(data_save + f'{image_name}', cropped_img)"
   ]
  },
  {
   "cell_type": "code",
   "execution_count": 103,
   "metadata": {},
   "outputs": [],
   "source": [
    "# #ONLY RUN ONCE\n",
    "# #making folders\n",
    "os.mkdir('exp_2perc')\n",
    "os.mkdir('exp_2perc_crop')"
   ]
  },
  {
   "cell_type": "code",
   "execution_count": 104,
   "metadata": {},
   "outputs": [
    {
     "name": "stderr",
     "output_type": "stream",
     "text": [
      "[ WARN:0@8031.891] global /private/var/folders/sy/f16zz6x50xz3113nwtb9bvq00000gp/T/abs_5a1v4y7k9y/croot/opencv-suite_1676472757237/work/modules/videoio/src/cap_gstreamer.cpp (862) isPipelinePlaying OpenCV | GStreamer warning: GStreamer: pipeline have not been created\n",
      "[ERROR:0@8031.891] global /private/var/folders/sy/f16zz6x50xz3113nwtb9bvq00000gp/T/abs_5a1v4y7k9y/croot/opencv-suite_1676472757237/work/modules/videoio/src/cap.cpp (166) open VIDEOIO(GSTREAMER): raised OpenCV exception:\n",
      "\n",
      "OpenCV(4.6.0) /private/var/folders/sy/f16zz6x50xz3113nwtb9bvq00000gp/T/abs_5a1v4y7k9y/croot/opencv-suite_1676472757237/work/modules/core/src/utils/filesystem.cpp:580: error: (-213:The function/feature is not implemented)  in function 'exists'\n",
      "\n",
      "\n"
     ]
    },
    {
     "name": "stdout",
     "output_type": "stream",
     "text": [
      "No frames grabbed!\n"
     ]
    }
   ],
   "source": [
    "# #ONLY RUN ONCE\n",
    "# #extracting frames from the simulated 2 percent G1100 video\n",
    "video_name = 'Result of 20kHz_400mV_100kfps_384by240_20x_C001H001S0001-cut_50fr_subs-cleaned'\n",
    "path_to_source = 'data/' + video_name + '.avi'\n",
    "cap = cv.VideoCapture(path_to_source)\n",
    "num_frames = 50\n",
    "l=0\n",
    "m=0\n",
    "while l <= num_frames:\n",
    "    ret, frame = cap.read()\n",
    "    if not ret: \n",
    "        print('No frames grabbed!')\n",
    "        break\n",
    "    cv.imwrite(f'exp_2perc/{m}.jpg', frame)\n",
    "    l+=1\n",
    "    m+=1"
   ]
  },
  {
   "cell_type": "code",
   "execution_count": 105,
   "metadata": {},
   "outputs": [],
   "source": [
    "# #ONLY RUN ONCE\n",
    "# # crop images for faster calculation \n",
    "data_path = 'exp_2perc/'\n",
    "data_save = 'exp_2perc_crop/'\n",
    "x_start = 0\n",
    "x_end = 100\n",
    "y_start = 0\n",
    "y_end = 20\n",
    "crop_images(data_path, data_save, x_start, x_end, y_start, y_end, color=False)"
   ]
  },
  {
   "cell_type": "code",
   "execution_count": 111,
   "metadata": {},
   "outputs": [
    {
     "name": "stdout",
     "output_type": "stream",
     "text": [
      "[1. 1. 1. 1. 1. 1. 1. 1. 1. 1. 1. 1. 1. 1. 1. 1. 1. 1. 1. 1. 1. 1. 1. 1.\n",
      " 1. 1. 1. 1. 1. 1. 1. 1. 1. 1. 1. 1. 1. 1. 1. 1. 1. 1. 1. 1. 1. 1. 1. 1.\n",
      " 1. 1. 1. 1. 1. 1. 1. 1. 1. 1. 1. 1. 1. 1. 1. 1. 1. 1. 1. 1. 1. 1. 1. 1.\n",
      " 1. 1. 1. 1. 1. 1. 1. 1. 1. 1. 1. 1. 1. 1. 1. 1. 1. 1. 1. 1. 1. 1. 1. 1.\n",
      " 1. 1. 1. 1.]\n"
     ]
    },
    {
     "data": {
      "image/png": "[encoded data removed]",
      "text/plain": [
       "<Figure size 640x480 with 1 Axes>"
      ]
     },
     "metadata": {},
     "output_type": "display_data"
    }
   ],
   "source": [
    "# implement slope measurement for one pixel\n",
    "# 100x100 pixels\n",
    "#iterate through each pixel to get a correlation result\n",
    "frNum = 50\n",
    "# path_to_images = 'sim_2perc_crop/'\n",
    "# path_to_images = 'sim_1perc_crop/'\n",
    "# path_to_images = 'sim_05perc_crop/'\n",
    "path_to_images = 'exp_2perc_crop/'\n",
    "kernel = 1\n",
    "threshold_bin = 0\n",
    "\n",
    "pixel_x = 8\n",
    "pixel_y = 1\n",
    "pixel_array = []\n",
    "for x in range(0, pixel_x + 1):\n",
    "     for y in range(0, pixel_y + 1):\n",
    "        pixel = [pixel_x, pixel_y]\n",
    "pixel_array.append(pixel)         \n",
    "         \n",
    "#corr_full_y is 100x29 matrix which represents one pixel      \n",
    "_, corr_full_y = cross_correlation(frNum, path_to_images, pixel_array[0], kernel, x_disp=False, y_disp=True)\n",
    "\n",
    "plt.imshow(corr_full_y)\n",
    "# print(corr_full_y.shape[1])\n",
    "print(corr_full_y[:,-1])"
   ]
  },
  {
   "cell_type": "code",
   "execution_count": 107,
   "metadata": {},
   "outputs": [
    {
     "name": "stdout",
     "output_type": "stream",
     "text": [
      "[[0. 1. 0. 0. 1. 0. 1. 0. 0. 0.]\n",
      " [0. 1. 0. 0. 1. 0. 1. 0. 0. 1.]\n",
      " [0. 1. 0. 0. 1. 0. 1. 0. 0. 1.]\n",
      " [0. 1. 0. 0. 1. 0. 1. 0. 0. 1.]\n",
      " [0. 1. 0. 0. 1. 0. 1. 0. 0. 1.]\n",
      " [0. 1. 0. 0. 1. 0. 0. 0. 0. 1.]\n",
      " [0. 1. 0. 0. 1. 0. 0. 0. 0. 1.]\n",
      " [0. 1. 0. 0. 0. 0. 0. 0. 0. 0.]\n",
      " [0. 1. 0. 0. 0. 0. 0. 0. 0. 0.]\n",
      " [0. 1. 0. 0. 1. 0. 0. 0. 0. 0.]\n",
      " [0. 1. 0. 0. 1. 0. 0. 0. 0. 0.]\n",
      " [0. 0. 1. 0. 1. 0. 0. 1. 0. 0.]\n",
      " [0. 0. 1. 0. 1. 0. 0. 1. 0. 0.]\n",
      " [0. 0. 1. 0. 0. 0. 0. 1. 0. 1.]\n",
      " [0. 0. 1. 0. 0. 0. 0. 1. 0. 0.]\n",
      " [0. 0. 1. 0. 1. 0. 0. 1. 0. 1.]\n",
      " [1. 0. 1. 0. 0. 0. 0. 1. 0. 0.]\n",
      " [1. 0. 1. 0. 0. 0. 0. 1. 0. 0.]\n",
      " [1. 0. 1. 0. 0. 0. 0. 0. 0. 0.]\n",
      " [1. 0. 1. 0. 0. 0. 0. 0. 0. 0.]\n",
      " [1. 0. 1. 0. 1. 0. 0. 0. 0. 0.]\n",
      " [0. 0. 1. 0. 0. 0. 0. 1. 0. 0.]\n",
      " [0. 0. 1. 0. 0. 0. 0. 1. 0. 0.]\n",
      " [0. 0. 1. 0. 0. 1. 0. 1. 0. 0.]\n",
      " [1. 0. 1. 0. 0. 1. 0. 1. 0. 0.]\n",
      " [1. 0. 1. 0. 0. 1. 0. 1. 0. 0.]\n",
      " [0. 0. 1. 0. 0. 0. 0. 1. 0. 0.]\n",
      " [0. 0. 0. 0. 0. 0. 0. 1. 0. 0.]\n",
      " [0. 0. 0. 0. 0. 0. 0. 0. 0. 0.]\n",
      " [1. 0. 0. 0. 0. 0. 0. 0. 0. 0.]\n",
      " [1. 0. 0. 0. 0. 0. 0. 1. 0. 0.]\n",
      " [1. 0. 0. 0. 0. 1. 0. 1. 0. 0.]\n",
      " [1. 0. 0. 1. 0. 1. 0. 0. 0. 0.]\n",
      " [1. 0. 0. 1. 0. 1. 0. 0. 0. 0.]\n",
      " [1. 0. 0. 1. 0. 1. 0. 0. 1. 0.]\n",
      " [1. 0. 0. 1. 0. 0. 0. 0. 1. 0.]\n",
      " [1. 0. 0. 1. 0. 0. 0. 0. 1. 0.]\n",
      " [0. 0. 0. 1. 0. 0. 0. 0. 1. 0.]\n",
      " [0. 0. 0. 1. 0. 0. 0. 0. 1. 0.]\n",
      " [0. 0. 0. 1. 0. 0. 0. 0. 1. 0.]\n",
      " [0. 0. 0. 1. 0. 0. 0. 0. 0. 0.]\n",
      " [0. 0. 0. 1. 0. 0. 0. 0. 0. 0.]\n",
      " [0. 0. 0. 1. 0. 0. 0. 0. 0. 0.]\n",
      " [0. 0. 0. 1. 0. 0. 0. 0. 1. 0.]\n",
      " [0. 0. 0. 1. 0. 0. 0. 0. 1. 0.]\n",
      " [0. 0. 0. 1. 0. 0. 0. 0. 1. 0.]\n",
      " [0. 0. 0. 1. 0. 0. 0. 0. 1. 0.]\n",
      " [0. 0. 0. 0. 0. 0. 0. 0. 1. 0.]\n",
      " [0. 0. 0. 0. 0. 0. 0. 0. 1. 0.]\n",
      " [0. 0. 0. 0. 0. 0. 0. 0. 1. 0.]\n",
      " [0. 0. 0. 0. 0. 0. 0. 0. 1. 0.]\n",
      " [0. 0. 0. 0. 0. 0. 0. 0. 1. 0.]\n",
      " [0. 0. 0. 0. 1. 0. 0. 0. 1. 0.]\n",
      " [0. 0. 0. 0. 0. 0. 0. 0. 0. 0.]\n",
      " [0. 0. 0. 0. 0. 0. 0. 0. 0. 0.]\n",
      " [0. 0. 0. 0. 0. 0. 0. 0. 0. 0.]\n",
      " [0. 0. 1. 0. 0. 0. 0. 1. 0. 0.]\n",
      " [0. 0. 1. 0. 0. 0. 0. 1. 0. 1.]\n",
      " [0. 0. 1. 0. 0. 0. 0. 0. 0. 0.]\n",
      " [0. 0. 1. 0. 0. 0. 0. 1. 0. 0.]\n",
      " [0. 0. 0. 0. 0. 0. 0. 1. 0. 0.]\n",
      " [0. 0. 0. 0. 0. 0. 0. 1. 0. 0.]\n",
      " [0. 0. 0. 0. 0. 0. 0. 0. 0. 0.]\n",
      " [0. 0. 0. 0. 0. 0. 0. 0. 0. 0.]\n",
      " [1. 0. 0. 0. 0. 0. 0. 1. 0. 0.]\n",
      " [1. 0. 0. 0. 0. 0. 0. 1. 0. 0.]\n",
      " [1. 0. 0. 0. 0. 1. 0. 1. 0. 0.]\n",
      " [1. 0. 0. 0. 0. 1. 0. 1. 0. 0.]\n",
      " [1. 0. 1. 0. 0. 1. 0. 1. 0. 0.]\n",
      " [1. 0. 0. 0. 0. 1. 0. 1. 0. 0.]\n",
      " [1. 0. 0. 0. 0. 1. 0. 1. 0. 0.]\n",
      " [1. 0. 0. 0. 0. 1. 0. 0. 0. 0.]\n",
      " [1. 0. 0. 0. 0. 1. 0. 0. 0. 0.]\n",
      " [1. 0. 0. 0. 0. 1. 0. 0. 0. 0.]\n",
      " [1. 0. 0. 0. 0. 1. 0. 0. 0. 0.]\n",
      " [1. 0. 0. 0. 0. 1. 0. 0. 0. 0.]\n",
      " [1. 0. 0. 0. 0. 1. 0. 0. 0. 0.]\n",
      " [1. 0. 0. 0. 0. 1. 0. 0. 0. 0.]\n",
      " [1. 0. 0. 0. 0. 1. 0. 0. 0. 0.]\n",
      " [1. 0. 0. 1. 0. 1. 0. 0. 0. 0.]\n",
      " [1. 0. 0. 1. 0. 1. 0. 0. 1. 0.]\n",
      " [1. 0. 0. 1. 0. 1. 0. 0. 1. 0.]\n",
      " [1. 0. 0. 0. 0. 1. 0. 0. 1. 0.]\n",
      " [1. 0. 0. 1. 0. 1. 0. 0. 1. 0.]\n",
      " [1. 0. 0. 1. 0. 1. 0. 0. 1. 0.]\n",
      " [1. 0. 0. 1. 0. 1. 0. 0. 1. 0.]\n",
      " [1. 0. 0. 1. 0. 1. 0. 0. 1. 0.]\n",
      " [0. 0. 0. 1. 0. 1. 0. 0. 1. 0.]\n",
      " [0. 0. 0. 1. 0. 1. 0. 0. 1. 0.]\n",
      " [0. 0. 0. 1. 0. 1. 0. 0. 0. 0.]\n",
      " [1. 0. 0. 0. 0. 1. 0. 0. 1. 0.]\n",
      " [1. 0. 0. 0. 0. 1. 0. 0. 1. 0.]\n",
      " [1. 0. 0. 0. 0. 1. 0. 0. 1. 0.]\n",
      " [1. 0. 0. 0. 0. 0. 0. 0. 0. 0.]\n",
      " [0. 0. 0. 0. 0. 1. 0. 0. 0. 0.]\n",
      " [0. 0. 0. 0. 0. 0. 0. 0. 0. 0.]\n",
      " [0. 0. 0. 0. 0. 0. 0. 0. 0. 0.]\n",
      " [0. 0. 0. 0. 0. 0. 0. 0. 0. 0.]\n",
      " [0. 0. 0. 0. 0. 0. 0. 0. 0. 0.]\n",
      " [0. 0. 0. 0. 0. 0. 0. 0. 0. 0.]]\n"
     ]
    },
    {
     "data": {
      "image/png": "[encoded data removed]",
      "text/plain": [
       "<Figure size 640x480 with 1 Axes>"
      ]
     },
     "metadata": {},
     "output_type": "display_data"
    }
   ],
   "source": [
    "#clean version\n",
    "T=120\n",
    "image = np.copy(corr_full_y)\n",
    "image[corr_full_y<T] = 0\n",
    "image[corr_full_y>=T] = 1\n",
    "plt.imshow(image)\n",
    "print(image)"
   ]
  },
  {
   "cell_type": "code",
   "execution_count": 99,
   "metadata": {},
   "outputs": [
    {
     "name": "stdout",
     "output_type": "stream",
     "text": [
      "[11]\n",
      "[37]\n",
      "[2.6]\n"
     ]
    }
   ],
   "source": [
    "non0_firstCol = np.argwhere(image[:,0]==1)\n",
    "zero_lastCol = np.argwhere(image[:,-1]==0)\n",
    "print(non0_firstCol[0])\n",
    "print(zero_lastCol[-1])\n",
    "slope = (zero_lastCol[-1] - non0_firstCol[0])/frNum\n",
    "print(slope)\n"
   ]
  },
  {
   "cell_type": "code",
   "execution_count": 100,
   "metadata": {},
   "outputs": [
    {
     "name": "stdout",
     "output_type": "stream",
     "text": [
      "[[0.         0.         0.         ... 0.79610976 0.96311231 0.99467192]\n",
      " [0.         0.         0.         ... 0.75810668 0.95463268 0.99327982]\n",
      " [0.         0.         0.         ... 0.71259645 0.94447797 0.99161272]\n",
      " ...\n",
      " [1.         1.         1.         ... 1.         1.         1.        ]\n",
      " [1.         1.         1.         ... 1.         1.         1.        ]\n",
      " [1.         1.         1.         ... 1.         1.         1.        ]]\n"
     ]
    },
    {
     "data": {
      "image/png": "[encoded data removed]",
      "text/plain": [
       "<Figure size 640x480 with 1 Axes>"
      ]
     },
     "metadata": {},
     "output_type": "display_data"
    }
   ],
   "source": [
    "img = image.copy()\n",
    "img_bl = cv.GaussianBlur(src=img, ksize=(7, 7), sigmaX=1)\n",
    "plt.imshow(img_bl)\n",
    "print(img_bl)"
   ]
  },
  {
   "cell_type": "code",
   "execution_count": 5,
   "metadata": {},
   "outputs": [],
   "source": [
    "# Save the Numpy array as Image\n",
    "image_filename = \"image0_2perc.jpeg\"\n",
    "i=0\n",
    "saved_image = plt.imsave(fname=image_filename, arr=image)"
   ]
  },
  {
   "cell_type": "code",
   "execution_count": null,
   "metadata": {},
   "outputs": [],
   "source": [
    "img = cv.imread(filename=image_filename, flags=cv.IMREAD_GRAYSCALE)\n",
    "plt.imshow(image)\n",
    "print(image)"
   ]
  },
  {
   "cell_type": "code",
   "execution_count": 101,
   "metadata": {},
   "outputs": [
    {
     "name": "stdout",
     "output_type": "stream",
     "text": [
      "2.2766820580474936\n"
     ]
    },
    {
     "data": {
      "image/png": "[encoded data removed]",
      "text/plain": [
       "<Figure size 640x480 with 1 Axes>"
      ]
     },
     "metadata": {},
     "output_type": "display_data"
    }
   ],
   "source": [
    "#example: fitting a line to cross correlation clean version from above (flipped)\n",
    "plt.imshow(image)\n",
    "#finding where the value is zero in the image matrix and filling that region with scatter points\n",
    "zero_coords = np.argwhere(image==0)\n",
    "# plt.xlim(0,10)\n",
    "# plt.ylim(0,80)\n",
    "# plt.scatter(zero_coords[:,1],zero_coords[:,0], color='purple')\n",
    "\n",
    "#find line of best fit for scatter\n",
    "slope, b = np.polyfit(zero_coords[:,1], zero_coords[:,0], 1)\n",
    "if slope<0:\n",
    "    zero_coords = np.argwhere(image==1)\n",
    "    slope, b = np.polyfit(zero_coords[:,1], zero_coords[:,0], 1)\n",
    "else:\n",
    "    slope = slope\n",
    "\n",
    "\n",
    "#add line of best fit to plot\n",
    "plt.plot(zero_coords[:,1], slope*zero_coords[:,1]+b, color='black', linestyle='-', linewidth=3)\n",
    "\n",
    "#add fitted regression equation to plot\n",
    "plt.text(16, 60, 'y = ' + '{:.2f}'.format(b) + ' + {:.2f}'.format(slope) + 'x', size=14)\n",
    "print(slope)"
   ]
  }
 ],
 "metadata": {
  "kernelspec": {
   "display_name": "Python 3.10.9 ('elastography')",
   "language": "python",
   "name": "python3"
  },
  "language_info": {
   "codemirror_mode": {
    "name": "ipython",
    "version": 3
   },
   "file_extension": ".py",
   "mimetype": "text/x-python",
   "name": "python",
   "nbconvert_exporter": "python",
   "pygments_lexer": "ipython3",
   "version": "3.10.9"
  },
  "orig_nbformat": 4,
  "vscode": {
   "interpreter": {
    "hash": "a3d30da45adb134a765899144bd3db66488bc29deb4a507e0d3f4d9edf9785fb"
   }
  }
 },
 "nbformat": 4,
 "nbformat_minor": 2
}
