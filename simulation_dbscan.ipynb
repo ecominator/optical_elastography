{
 "cells": [
  {
   "cell_type": "markdown",
   "metadata": {},
   "source": [
    "<h3>Slopes for real videos"
   ]
  },
  {
   "cell_type": "markdown",
   "metadata": {},
   "source": [
    "13.06.2022"
   ]
  },
  {
   "cell_type": "code",
   "execution_count": 55,
   "metadata": {},
   "outputs": [],
   "source": [
    "import numpy as np\n",
    "import cv2 as cv\n",
    "import scipy\n",
    "from scipy import signal\n",
    "import matplotlib\n",
    "import matplotlib.pyplot as plt\n",
    "import os\n",
    "import shutil\n",
    "from skimage.morphology import skeletonize\n",
    "import skimage.io\n",
    "from sklearn.mixture import GaussianMixture as GMM\n",
    "from sklearn.linear_model import LinearRegression\n",
    "\n",
    "from functions import *\n",
    "#from wave_detection.line_detection_gmm import *"
   ]
  },
  {
   "cell_type": "code",
   "execution_count": 56,
   "metadata": {},
   "outputs": [],
   "source": [
    "def cross_correlation (frNum, path_to_images, pixel, kernel, x_disp=False, y_disp=False):\n",
    "    image_1_name = os.fsdecode(os.listdir(path_to_images)[0])\n",
    "    image_1 = cv.imread(path_to_images + f'{image_1_name}', cv.IMREAD_GRAYSCALE)\n",
    "    corr_full_x = np.zeros([image_1.shape[1], frNum])\n",
    "    corr_full_y = np.zeros([image_1.shape[0], frNum])\n",
    "    k=0\n",
    "    while k<frNum:\n",
    "        image_name = str(k) + '.jpg'\n",
    "        image_next = cv.imread(path_to_images+f'{image_name}', cv.IMREAD_GRAYSCALE)\n",
    "        if x_disp:\n",
    "            arr_1 = np.ones([kernel,]) * image_1[pixel[0], pixel[1]]\n",
    "            corr = signal.correlate(image_next[pixel[0], :], arr_1, mode='same')\n",
    "            corr = np.reshape(cv.normalize(corr, None, 1, 256, cv.NORM_MINMAX), (image_1.shape[1],)) #normalization added\n",
    "            corr_full_x[:, k] = corr\n",
    "        if y_disp:\n",
    "            arr_1 = np.ones([kernel,]) * image_1[pixel[0], pixel[1]]\n",
    "            corr = signal.correlate(image_next[:, pixel[1]], np.transpose(arr_1), mode='same')\n",
    "            corr = np.reshape(cv.normalize(corr, None, 1, 256, cv.NORM_MINMAX), (image_1.shape[0],)) #normalization added\n",
    "            corr_full_y[:, k] = corr          \n",
    "        k+=1\n",
    "    \n",
    "    return corr_full_x, corr_full_y"
   ]
  },
  {
   "cell_type": "code",
   "execution_count": 39,
   "metadata": {},
   "outputs": [],
   "source": [
    "\"\"\" Script to estimate the slope of a passing wave\n",
    "on a position-time plot\n",
    "\"\"\"\n",
    "# Github: hubernikus\n",
    "\n",
    "import numpy as np\n",
    "from numpy import linalg\n",
    "\n",
    "import matplotlib.pyplot as plt\n",
    "import matplotlib as mpl\n",
    "\n",
    "from sklearn import mixture\n",
    "from sklearn.cluster import DBSCAN\n",
    "\n",
    "\n",
    "class WaveDetector:\n",
    "    def __init__(self, corr_image, peak_threshold=150):\n",
    "    # def __init__(self, data_file, peak_threshold=30):    \n",
    "        # self.correlation = np.genfromtxt(data_file, delimiter=',')\n",
    "        self.correlation = corr_image\n",
    "\n",
    "        self.n_pos = self.correlation.shape[0]\n",
    "        self.n_time = self.correlation.shape[1]\n",
    "\n",
    "        # Extract wave tip points with corresponding range of [0, 1] for position and time\n",
    "        self.ind_siginificant = (self.correlation > peak_threshold)\n",
    "        # self.ind_siginificant = (self.correlation < peak_threshold)\n",
    "\n",
    "        # Step-size of 1 between position and time worked out to be optimal\n",
    "        self.x_lim = [0, self.n_time]\n",
    "        self.y_lim = [0, self.n_pos]\n",
    "        \n",
    "        time_vals, pos_vals = np.meshgrid(\n",
    "            np.linspace(self.x_lim[0], self.x_lim[-1], self.n_time),\n",
    "            np.linspace(self.y_lim[0], self.y_lim[-1], self.n_pos),\n",
    "        )\n",
    "\n",
    "        self.data = np.vstack((\n",
    "            time_vals.flatten(),\n",
    "            pos_vals.flatten(),\n",
    "            # time_vals.flatten(),\n",
    "        ))[:, self.ind_siginificant.flatten()]\n",
    "\n",
    "        # self.data = self.data.T\n",
    "        #self.do_dbscan()\n",
    "        self.do_gmm_clustering()\n",
    "    \n",
    "    def do_dbscan(self, eps = 2, min_samples = 5, x_stretching = 1, do_plotting = False):\n",
    "        self.temp_data = np.copy(self.data)\n",
    "        self.temp_data[0,:] = self.data[0,:]*x_stretching\n",
    "        self.dbscan = DBSCAN(eps = eps, min_samples = min_samples).fit(self.temp_data.T)\n",
    "        self.unique_labels = set(self.dbscan.labels_)\n",
    "        colors = [plt.cm.Spectral(each) for each in np.linspace(0, 1, len(self.unique_labels))]\n",
    "        \n",
    "        for k, col in zip(self.unique_labels, colors):\n",
    "            if k == -1:\n",
    "                # Black used for noise.\n",
    "                col = [0, 0, 0, 1]\n",
    "\n",
    "            class_member_mask = self.dbscan.labels_ == k\n",
    "\n",
    "            xy = self.temp_data.T[class_member_mask]\n",
    "            if do_plotting:\n",
    "                plt.plot(\n",
    "                    xy[:, 0],\n",
    "                    xy[:, 1],\n",
    "                    \".\",\n",
    "                    color=tuple(col),\n",
    "                    markersize=14,\n",
    "                    )\n",
    "                plt.axis('equal')\n",
    "            \n",
    "    def do_linear_regression(self):\n",
    "        reg_coeffs = []\n",
    "\n",
    "        for label in self.unique_labels:\n",
    "            if label == -1:\n",
    "                continue\n",
    "\n",
    "            class_member_mask = self.dbscan.labels_ == label\n",
    "\n",
    "            xy = self.data.T[class_member_mask]\n",
    "            reg = LinearRegression().fit(xy[:,0].reshape(-1, 1), xy[:,1].reshape(-1, 1))\n",
    "            reg_coeffs.append(reg.coef_)\n",
    "\n",
    "        return np.mean(reg_coeffs)\n",
    "\n",
    "        \n",
    "    def do_gmm_clustering(self, n_gmm=4):\n",
    "        self.gmm = mixture.GaussianMixture(\n",
    "            n_components=n_gmm,\n",
    "            covariance_type=\"full\",\n",
    "            max_iter=100\n",
    "        ).fit(self.data.T)\n",
    "        \n",
    "    \n",
    "\n",
    "\n",
    "    def do_slope_estimation(self, rel_weight_margin=0.1, color='#ADD8E6', plot_results=False):\n",
    "        # TODO: Pre-processing to remove ellipses which are in the upper left or bottom -> Done\n",
    "        # self.count = []\n",
    "\n",
    "        # for ii, mean in enumerate(self.gmm.means_):\n",
    "        #     if mean[1] <= self.n_pos/2 and mean[0] <= self.n_time/3:\n",
    "        #     # if mean[1] >= 80:\n",
    "        #         self.count.append(ii)\n",
    "        # self.gmm.means_ = np.delete(self.gmm.means_, self.count, 0)\n",
    "        # self.gmm.covariances_ = np.delete(self.gmm.covariances_, self.count, 0)\n",
    "        # self.gmm.weights_ = np.delete(self.gmm.weights_, self.count, 0)\n",
    "\n",
    "        \n",
    "        max_weight = np.max(self.gmm.weights_)\n",
    "\n",
    "        if plot_results:\n",
    "            # Plot only relevant clusters\n",
    "            fig, ax = plt.subplots()\n",
    "\n",
    "        self.slopes = []\n",
    "        self.weights = []\n",
    "        \n",
    "        for ii, (mean, covar) in enumerate(zip(self.gmm.means_, self.gmm.covariances_)):\n",
    "            # Neglect clusteres with only few points\n",
    "            if self.gmm.weights_[ii] < rel_weight_margin * max_weight:\n",
    "                continue\n",
    "    \n",
    "            # Eigen values are in ascending order -> last eigenvector is important!\n",
    "            eig_vals, eig_vecs = linalg.eigh(covar)\n",
    "\n",
    "            eig_vals = 2.0 * np.sqrt(2.0) * np.sqrt(eig_vals)\n",
    "            uu = eig_vecs[0] / linalg.norm(eig_vecs[0])\n",
    "\n",
    "            if any(eig_vecs[-1, :] < 1e-3):\n",
    "                continue\n",
    "            elif any(eig_vecs[-1, :] > 100):\n",
    "                continue\n",
    "            self.weights.append(self.gmm.weights_[ii])\n",
    "            self.slopes.append(eig_vecs[-1, :] / linalg.norm(eig_vecs[-1, :]))\n",
    "                    # self.slopes.append([-uu[1], uu[0]])\n",
    "\n",
    "            if plot_results:\n",
    "                        # Plot an ellipse to show the Gaussian component\n",
    "                        angle = np.arctan2(uu[1], uu[0])\n",
    "                        angle = 180.0 * angle / np.pi  # convert to degrees\n",
    "                        ell = mpl.patches.Ellipse(mean, eig_vals[0], eig_vals[1], angle, color=color)\n",
    "                        ell.set_clip_box(ax.bbox)\n",
    "                        ell.set_alpha(0.5)\n",
    "                        ax.add_artist(ell)\n",
    "                \n",
    "                # Get mean\n",
    "            self.slopes = np.array(self.slopes).T\n",
    "\n",
    "                # Check which slopes are pointing downwards\n",
    "            ind_neg = (self.slopes[1, :] < 0)\n",
    "            self.slopes[1, ind_neg] *= (-1)\n",
    "\n",
    "                # Normalize weights\n",
    "            self.weights = self.weights / np.sum(self.weights)\n",
    "                \n",
    "            self.mean_slope = np.sum(\n",
    "                self.slopes * np.tile(self.weights, (self.slopes.shape[0], 1)), axis=1\n",
    "                )\n",
    "\n",
    "            slope = self.mean_slope[1] / self.mean_slope[0]\n",
    "\n",
    "            if plot_results:\n",
    "                    ax.scatter(self.data[0, :], self.data[1, :], color='k')\n",
    "                    # ax.scatter([], [], color='k')\n",
    "                    self.x_lim = ax.get_xlim()\n",
    "                    self.y_lim = ax.get_ylim()\n",
    "\n",
    "                    y1 = self.y_lim[0] + (self.x_lim[1] - self.x_lim[0]) * slope\n",
    "\n",
    "                    ax.plot(self.x_lim, np.array([self.y_lim[0], y1]) + 0, '--', color='r',\n",
    "                            linewidth=2, label=f\"{round(slope, 6)} m / s\")\n",
    "\n",
    "                    ax.set_xlim(self.x_lim)\n",
    "                    ax.set_ylim(self.y_lim)\n",
    "\n",
    "                    ax.legend()\n",
    "\n",
    "            return slope\n",
    "\n",
    "    def plot_all_clusters(self, color='#ADD8E6'):\n",
    "        fig, ax = plt.subplots()\n",
    "\n",
    "        ax.scatter(self.data[0, :], self.data[1, :], color='k')\n",
    "        \n",
    "        for ii, (mean, covar) in enumerate(zip(self.gmm.means_, self.gmm.covariances_)):\n",
    "            v, w = linalg.eigh(covar)\n",
    "            v = 2.0 * np.sqrt(2.0) * np.sqrt(v)\n",
    "            u = w[0] / linalg.norm(w[0])\n",
    "            \n",
    "            # Plot an ellipse to show the Gaussian component\n",
    "            angle = np.arctan(u[1] / u[0])\n",
    "            angle = 180.0 * angle / np.pi  # convert to degrees\n",
    "            ell = mpl.patches.Ellipse(mean, v[0], v[1], 180.0 + angle, color=color)\n",
    "            ell.set_clip_box(ax.bbox)\n",
    "            ell.set_alpha(0.5)\n",
    "            ax.add_artist(ell)"
   ]
  },
  {
   "cell_type": "code",
   "execution_count": 146,
   "metadata": {
    "scrolled": false
   },
   "outputs": [
    {
     "data": {
      "image/png": "[encoded data removed]",
      "text/plain": [
       "<Figure size 432x288 with 1 Axes>"
      ]
     },
     "metadata": {
      "needs_background": "light"
     },
     "output_type": "display_data"
    }
   ],
   "source": [
    "plt.close('all')\n",
    "plt.ion()\n",
    "# my_detector = WaveDetector(data_file=\"corr_0_40.csv\")\n",
    "my_detector = WaveDetector(corr_image=blur_norm)\n",
    "my_detector.plot_all_clusters()\n",
    "# my_detector.do_gmm_clustering()\n",
    "#slope = my_detector.do_slope_estimation(plot_results=True)\n",
    "#print('slope', slope)"
   ]
  },
  {
   "cell_type": "code",
   "execution_count": 178,
   "metadata": {
    "scrolled": true
   },
   "outputs": [
    {
     "data": {
      "text/plain": [
       "(-6.0, 126.0, -2.5, 52.5)"
      ]
     },
     "execution_count": 178,
     "metadata": {},
     "output_type": "execute_result"
    },
    {
     "data": {
      "image/png": "[encoded data removed]",
      "text/plain": [
       "<Figure size 432x288 with 1 Axes>"
      ]
     },
     "metadata": {
      "needs_background": "light"
     },
     "output_type": "display_data"
    }
   ],
   "source": [
    "my_detector.do_dbscan(eps =8, min_samples = 12, x_stretching = 4, do_plotting = True)\n",
    "unique_labels = set(my_detector.dbscan.labels_)\n",
    "colors = [plt.cm.Spectral(each) for each in np.linspace(0, 1, len(unique_labels))]\n",
    "for k, col in zip(unique_labels, colors):\n",
    "    if k == -1:\n",
    "        # Black used for noise.\n",
    "        col = [0, 0, 0, 1]\n",
    "\n",
    "    class_member_mask = my_detector.dbscan.labels_ == k\n",
    "\n",
    "    xy = my_detector.temp_data.T[class_member_mask]\n",
    "    plt.plot(\n",
    "        xy[:, 0],\n",
    "        xy[:, 1],\n",
    "        \".\",\n",
    "        color=tuple(col),\n",
    "        markersize=14,\n",
    "    )\n",
    "plt.axis('equal')    "
   ]
  },
  {
   "cell_type": "code",
   "execution_count": 177,
   "metadata": {
    "scrolled": true
   },
   "outputs": [
    {
     "data": {
      "image/png": "[encoded data removed]",
      "text/plain": [
       "<Figure size 432x288 with 1 Axes>"
      ]
     },
     "metadata": {
      "needs_background": "light"
     },
     "output_type": "display_data"
    }
   ],
   "source": [
    "my_detector = WaveDetector(corr_image=blur_norm)\n",
    "my_detector.do_dbscan(eps =, min_samples = 12, x_stretching = 2, do_plotting = True)"
   ]
  },
  {
   "cell_type": "code",
   "execution_count": 179,
   "metadata": {},
   "outputs": [
    {
     "data": {
      "text/plain": [
       "1.2114921599892756"
      ]
     },
     "execution_count": 179,
     "metadata": {},
     "output_type": "execute_result"
    }
   ],
   "source": [
    "reg_coeffs = []\n",
    "\n",
    "for label in unique_labels:\n",
    "    if k == -1:\n",
    "        continue\n",
    "\n",
    "    class_member_mask = my_detector.dbscan.labels_ == label\n",
    "\n",
    "    xy = my_detector.data.T[class_member_mask]\n",
    "    reg = LinearRegression().fit(xy[:,0].reshape(-1, 1), xy[:,1].reshape(-1, 1))\n",
    "    reg_coeffs.append(reg.coef_)\n",
    "    \n",
    "np.mean(reg_coeffs)\n",
    "    #reg.intercept_"
   ]
  },
  {
   "cell_type": "code",
   "execution_count": 159,
   "metadata": {},
   "outputs": [
    {
     "ename": "OSError",
     "evalue": "corr_0_40.csv not found.",
     "output_type": "error",
     "traceback": [
      "\u001b[0;31m---------------------------------------------------------------------------\u001b[0m",
      "\u001b[0;31mOSError\u001b[0m                                   Traceback (most recent call last)",
      "\u001b[0;32m/var/folders/vj/3_h6tw0d0c54j62h3ppjflww0000gn/T/ipykernel_15783/426166233.py\u001b[0m in \u001b[0;36m<module>\u001b[0;34m\u001b[0m\n\u001b[1;32m      1\u001b[0m \u001b[0;32mif\u001b[0m \u001b[0;34m(\u001b[0m\u001b[0m__name__\u001b[0m\u001b[0;34m)\u001b[0m \u001b[0;34m==\u001b[0m \u001b[0;34m\"__main__\"\u001b[0m\u001b[0;34m:\u001b[0m\u001b[0;34m\u001b[0m\u001b[0;34m\u001b[0m\u001b[0m\n\u001b[0;32m----> 2\u001b[0;31m     \u001b[0mmain\u001b[0m\u001b[0;34m(\u001b[0m\u001b[0;34m)\u001b[0m\u001b[0;34m\u001b[0m\u001b[0;34m\u001b[0m\u001b[0m\n\u001b[0m",
      "\u001b[0;32m~/Downloads/elastography-main-2/wave_detection/line_detection_gmm.py\u001b[0m in \u001b[0;36mmain\u001b[0;34m()\u001b[0m\n\u001b[1;32m    162\u001b[0m     \u001b[0mplt\u001b[0m\u001b[0;34m.\u001b[0m\u001b[0mclose\u001b[0m\u001b[0;34m(\u001b[0m\u001b[0;34m'all'\u001b[0m\u001b[0;34m)\u001b[0m\u001b[0;34m\u001b[0m\u001b[0;34m\u001b[0m\u001b[0m\n\u001b[1;32m    163\u001b[0m     \u001b[0mplt\u001b[0m\u001b[0;34m.\u001b[0m\u001b[0mion\u001b[0m\u001b[0;34m(\u001b[0m\u001b[0;34m)\u001b[0m\u001b[0;34m\u001b[0m\u001b[0;34m\u001b[0m\u001b[0m\n\u001b[0;32m--> 164\u001b[0;31m     \u001b[0mmy_detector\u001b[0m \u001b[0;34m=\u001b[0m \u001b[0mWaveDetector\u001b[0m\u001b[0;34m(\u001b[0m\u001b[0mdata_file\u001b[0m\u001b[0;34m=\u001b[0m\u001b[0;34m\"corr_0_40.csv\"\u001b[0m\u001b[0;34m)\u001b[0m\u001b[0;34m\u001b[0m\u001b[0;34m\u001b[0m\u001b[0m\n\u001b[0m\u001b[1;32m    165\u001b[0m     \u001b[0;31m# my_detector.plot_all_clusters()\u001b[0m\u001b[0;34m\u001b[0m\u001b[0;34m\u001b[0m\u001b[0m\n\u001b[1;32m    166\u001b[0m \u001b[0;34m\u001b[0m\u001b[0m\n",
      "\u001b[0;32m~/Downloads/elastography-main-2/wave_detection/line_detection_gmm.py\u001b[0m in \u001b[0;36m__init__\u001b[0;34m(self, corr_image, data_file, peak_threshold)\u001b[0m\n\u001b[1;32m     20\u001b[0m             \u001b[0mself\u001b[0m\u001b[0;34m.\u001b[0m\u001b[0mcorrelation\u001b[0m \u001b[0;34m=\u001b[0m \u001b[0mcorr_image\u001b[0m\u001b[0;34m\u001b[0m\u001b[0;34m\u001b[0m\u001b[0m\n\u001b[1;32m     21\u001b[0m         \u001b[0;32melse\u001b[0m\u001b[0;34m:\u001b[0m\u001b[0;34m\u001b[0m\u001b[0;34m\u001b[0m\u001b[0m\n\u001b[0;32m---> 22\u001b[0;31m             \u001b[0mself\u001b[0m\u001b[0;34m.\u001b[0m\u001b[0mcorrelation\u001b[0m \u001b[0;34m=\u001b[0m \u001b[0mnp\u001b[0m\u001b[0;34m.\u001b[0m\u001b[0mgenfromtxt\u001b[0m\u001b[0;34m(\u001b[0m\u001b[0mdata_file\u001b[0m\u001b[0;34m,\u001b[0m \u001b[0mdelimiter\u001b[0m\u001b[0;34m=\u001b[0m\u001b[0;34m','\u001b[0m\u001b[0;34m)\u001b[0m\u001b[0;34m\u001b[0m\u001b[0;34m\u001b[0m\u001b[0m\n\u001b[0m\u001b[1;32m     23\u001b[0m \u001b[0;34m\u001b[0m\u001b[0m\n\u001b[1;32m     24\u001b[0m         \u001b[0mself\u001b[0m\u001b[0;34m.\u001b[0m\u001b[0mn_pos\u001b[0m \u001b[0;34m=\u001b[0m \u001b[0mself\u001b[0m\u001b[0;34m.\u001b[0m\u001b[0mcorrelation\u001b[0m\u001b[0;34m.\u001b[0m\u001b[0mshape\u001b[0m\u001b[0;34m[\u001b[0m\u001b[0;36m0\u001b[0m\u001b[0;34m]\u001b[0m\u001b[0;34m\u001b[0m\u001b[0;34m\u001b[0m\u001b[0m\n",
      "\u001b[0;32m~/opt/anaconda3/lib/python3.9/site-packages/numpy/lib/npyio.py\u001b[0m in \u001b[0;36mgenfromtxt\u001b[0;34m(fname, dtype, comments, delimiter, skip_header, skip_footer, converters, missing_values, filling_values, usecols, names, excludelist, deletechars, replace_space, autostrip, case_sensitive, defaultfmt, unpack, usemask, loose, invalid_raise, max_rows, encoding, like)\u001b[0m\n\u001b[1;32m   1789\u001b[0m             \u001b[0mfname\u001b[0m \u001b[0;34m=\u001b[0m \u001b[0mos_fspath\u001b[0m\u001b[0;34m(\u001b[0m\u001b[0mfname\u001b[0m\u001b[0;34m)\u001b[0m\u001b[0;34m\u001b[0m\u001b[0;34m\u001b[0m\u001b[0m\n\u001b[1;32m   1790\u001b[0m         \u001b[0;32mif\u001b[0m \u001b[0misinstance\u001b[0m\u001b[0;34m(\u001b[0m\u001b[0mfname\u001b[0m\u001b[0;34m,\u001b[0m \u001b[0mstr\u001b[0m\u001b[0;34m)\u001b[0m\u001b[0;34m:\u001b[0m\u001b[0;34m\u001b[0m\u001b[0;34m\u001b[0m\u001b[0m\n\u001b[0;32m-> 1791\u001b[0;31m             \u001b[0mfid\u001b[0m \u001b[0;34m=\u001b[0m \u001b[0mnp\u001b[0m\u001b[0;34m.\u001b[0m\u001b[0mlib\u001b[0m\u001b[0;34m.\u001b[0m\u001b[0m_datasource\u001b[0m\u001b[0;34m.\u001b[0m\u001b[0mopen\u001b[0m\u001b[0;34m(\u001b[0m\u001b[0mfname\u001b[0m\u001b[0;34m,\u001b[0m \u001b[0;34m'rt'\u001b[0m\u001b[0;34m,\u001b[0m \u001b[0mencoding\u001b[0m\u001b[0;34m=\u001b[0m\u001b[0mencoding\u001b[0m\u001b[0;34m)\u001b[0m\u001b[0;34m\u001b[0m\u001b[0;34m\u001b[0m\u001b[0m\n\u001b[0m\u001b[1;32m   1792\u001b[0m             \u001b[0mfid_ctx\u001b[0m \u001b[0;34m=\u001b[0m \u001b[0mcontextlib\u001b[0m\u001b[0;34m.\u001b[0m\u001b[0mclosing\u001b[0m\u001b[0;34m(\u001b[0m\u001b[0mfid\u001b[0m\u001b[0;34m)\u001b[0m\u001b[0;34m\u001b[0m\u001b[0;34m\u001b[0m\u001b[0m\n\u001b[1;32m   1793\u001b[0m         \u001b[0;32melse\u001b[0m\u001b[0;34m:\u001b[0m\u001b[0;34m\u001b[0m\u001b[0;34m\u001b[0m\u001b[0m\n",
      "\u001b[0;32m~/opt/anaconda3/lib/python3.9/site-packages/numpy/lib/_datasource.py\u001b[0m in \u001b[0;36mopen\u001b[0;34m(path, mode, destpath, encoding, newline)\u001b[0m\n\u001b[1;32m    192\u001b[0m \u001b[0;34m\u001b[0m\u001b[0m\n\u001b[1;32m    193\u001b[0m     \u001b[0mds\u001b[0m \u001b[0;34m=\u001b[0m \u001b[0mDataSource\u001b[0m\u001b[0;34m(\u001b[0m\u001b[0mdestpath\u001b[0m\u001b[0;34m)\u001b[0m\u001b[0;34m\u001b[0m\u001b[0;34m\u001b[0m\u001b[0m\n\u001b[0;32m--> 194\u001b[0;31m     \u001b[0;32mreturn\u001b[0m \u001b[0mds\u001b[0m\u001b[0;34m.\u001b[0m\u001b[0mopen\u001b[0m\u001b[0;34m(\u001b[0m\u001b[0mpath\u001b[0m\u001b[0;34m,\u001b[0m \u001b[0mmode\u001b[0m\u001b[0;34m,\u001b[0m \u001b[0mencoding\u001b[0m\u001b[0;34m=\u001b[0m\u001b[0mencoding\u001b[0m\u001b[0;34m,\u001b[0m \u001b[0mnewline\u001b[0m\u001b[0;34m=\u001b[0m\u001b[0mnewline\u001b[0m\u001b[0;34m)\u001b[0m\u001b[0;34m\u001b[0m\u001b[0;34m\u001b[0m\u001b[0m\n\u001b[0m\u001b[1;32m    195\u001b[0m \u001b[0;34m\u001b[0m\u001b[0m\n\u001b[1;32m    196\u001b[0m \u001b[0;34m\u001b[0m\u001b[0m\n",
      "\u001b[0;32m~/opt/anaconda3/lib/python3.9/site-packages/numpy/lib/_datasource.py\u001b[0m in \u001b[0;36mopen\u001b[0;34m(self, path, mode, encoding, newline)\u001b[0m\n\u001b[1;32m    529\u001b[0m                                       encoding=encoding, newline=newline)\n\u001b[1;32m    530\u001b[0m         \u001b[0;32melse\u001b[0m\u001b[0;34m:\u001b[0m\u001b[0;34m\u001b[0m\u001b[0;34m\u001b[0m\u001b[0m\n\u001b[0;32m--> 531\u001b[0;31m             \u001b[0;32mraise\u001b[0m \u001b[0mIOError\u001b[0m\u001b[0;34m(\u001b[0m\u001b[0;34m\"%s not found.\"\u001b[0m \u001b[0;34m%\u001b[0m \u001b[0mpath\u001b[0m\u001b[0;34m)\u001b[0m\u001b[0;34m\u001b[0m\u001b[0;34m\u001b[0m\u001b[0m\n\u001b[0m\u001b[1;32m    532\u001b[0m \u001b[0;34m\u001b[0m\u001b[0m\n\u001b[1;32m    533\u001b[0m \u001b[0;34m\u001b[0m\u001b[0m\n",
      "\u001b[0;31mOSError\u001b[0m: corr_0_40.csv not found."
     ]
    }
   ],
   "source": [
    "if (__name__) == \"__main__\":\n",
    "    main()"
   ]
  },
  {
   "cell_type": "code",
   "execution_count": 160,
   "metadata": {},
   "outputs": [],
   "source": [
    "# calculate elasticity\n",
    "\n",
    "def elasticity_HT (slopes, dens, conv_pix, conv_fr):\n",
    "    conv_factor = (conv_pix * conv_fr)*1e-6\n",
    "    mu = ((slopes * conv_factor)**2) * dens\n",
    "    return mu"
   ]
  },
  {
   "cell_type": "code",
   "execution_count": null,
   "metadata": {},
   "outputs": [],
   "source": [
    "## extracting frames from the video of a real wave with subtracted mean (2 percent conc), smoothed version\n",
    "\n",
    "video_name = 'test1percent_G1100_cut'\n",
    "path_to_source = 'data/' + video_name + '.avi'\n",
    "cap = cv.VideoCapture(path_to_source)\n",
    "num_frames = 30\n",
    "l=0\n",
    "m=0\n",
    "while l <= num_frames:\n",
    "    ret, frame = cap.read()\n",
    "    if not ret: \n",
    "        print('No frames grabbed!')\n",
    "        break\n",
    "    cv.imwrite(f'sim_2p/{m}.jpg', frame)\n",
    "    l+=1\n",
    "    m+=1"
   ]
  },
  {
   "cell_type": "code",
   "execution_count": 148,
   "metadata": {
    "scrolled": true
   },
   "outputs": [],
   "source": [
    "os.mkdir('sim_2p')\n",
    "os.mkdir('sim_2p_crop')"
   ]
  },
  {
   "cell_type": "code",
   "execution_count": 164,
   "metadata": {},
   "outputs": [],
   "source": [
    "# crop images for faster calculation \n",
    "\n",
    "data_path = 'sim_2p/'\n",
    "data_save = 'sim_2p_crop/'\n",
    "x_start = 40\n",
    "x_end = 90\n",
    "y_start = 40\n",
    "y_end = 90\n",
    "crop_images(data_path, data_save, x_start, x_end, y_start, y_end, color=False)"
   ]
  },
  {
   "cell_type": "code",
   "execution_count": 165,
   "metadata": {},
   "outputs": [],
   "source": [
    "# function to skip some frames\n",
    "\n",
    "for i in range(0, len(os.listdir('sim_2p_crop')), 3):\n",
    "    img = cv.imread(f'real_1306_crop/{i}.jpg')\n",
    "    cv.imwrite(f'real_1306_crop_slow/{int(i/3)}.jpg', img) # name depends on the number of frames to skip"
   ]
  },
  {
   "cell_type": "code",
   "execution_count": 167,
   "metadata": {},
   "outputs": [
    {
     "data": {
      "text/plain": [
       "<matplotlib.image.AxesImage at 0x7fda65a370a0>"
      ]
     },
     "execution_count": 167,
     "metadata": {},
     "output_type": "execute_result"
    },
    {
     "data": {
      "image/png": "[encoded data removed]",
      "text/plain": [
       "<Figure size 432x288 with 1 Axes>"
      ]
     },
     "metadata": {
      "needs_background": "light"
     },
     "output_type": "display_data"
    }
   ],
   "source": [
    "# implement slope measurement for one pixel (I used the following cells to control the situation for different pixels)\n",
    "\n",
    "frNum = 30\n",
    "path_to_images = 'sim_2p_crop/'\n",
    "kernel = 1\n",
    "threshold_bin = 0\n",
    "pixel = [0, 5]\n",
    "_, corr_full_y = cross_correlation(frNum, path_to_images, pixel, kernel, x_disp=False, y_disp=True)\n",
    "\n",
    "plt.imshow(corr_full_y)"
   ]
  },
  {
   "cell_type": "code",
   "execution_count": 168,
   "metadata": {},
   "outputs": [
    {
     "data": {
      "text/plain": [
       "<matplotlib.image.AxesImage at 0x7fda65b79be0>"
      ]
     },
     "execution_count": 168,
     "metadata": {},
     "output_type": "execute_result"
    },
    {
     "data": {
      "image/png": "[encoded data removed]",
      "text/plain": [
       "<Figure size 432x288 with 1 Axes>"
      ]
     },
     "metadata": {
      "needs_background": "light"
     },
     "output_type": "display_data"
    }
   ],
   "source": [
    "# plt.hist(corr_full_y.ravel())\n",
    "T=50\n",
    "image = np.copy(corr_full_y)\n",
    "image[corr_full_y<T] = 0\n",
    "image[corr_full_y>=T] = 1\n",
    "plt.imshow(image)"
   ]
  },
  {
   "cell_type": "code",
   "execution_count": 169,
   "metadata": {},
   "outputs": [
    {
     "data": {
      "text/plain": [
       "<matplotlib.image.AxesImage at 0x7fda65cfb0d0>"
      ]
     },
     "execution_count": 169,
     "metadata": {},
     "output_type": "execute_result"
    },
    {
     "data": {
      "image/png": "[encoded data removed]",
      "text/plain": [
       "<Figure size 432x288 with 1 Axes>"
      ]
     },
     "metadata": {
      "needs_background": "light"
     },
     "output_type": "display_data"
    }
   ],
   "source": [
    "# trying preprocessing\n",
    "\n",
    "# dil = skimage.morphology.closing(image)\n",
    "# blur_med = cv.medianBlur(corr_full_y, 3)\n",
    "blur = cv.GaussianBlur(image, (3, 3), 0)\n",
    "# skeleton = skeletonize(dil)\n",
    "plt.imshow(blur)"
   ]
  },
  {
   "cell_type": "code",
   "execution_count": 170,
   "metadata": {},
   "outputs": [],
   "source": [
    "blur_norm = cv.normalize(blur, None, 0, 255, cv.NORM_MINMAX)"
   ]
  },
  {
   "cell_type": "code",
   "execution_count": 161,
   "metadata": {},
   "outputs": [
    {
     "name": "stderr",
     "output_type": "stream",
     "text": [
      "[ WARN:0@8655.370] global /Users/runner/work/opencv-python/opencv-python/opencv/modules/imgcodecs/src/loadsave.cpp (239) findDecoder imread_('sim_2p_crop/0.jpg'): can't open/read file: check file path/integrity\n"
     ]
    },
    {
     "ename": "AttributeError",
     "evalue": "'NoneType' object has no attribute 'shape'",
     "output_type": "error",
     "traceback": [
      "\u001b[0;31m---------------------------------------------------------------------------\u001b[0m",
      "\u001b[0;31mAttributeError\u001b[0m                            Traceback (most recent call last)",
      "\u001b[0;32m/var/folders/vj/3_h6tw0d0c54j62h3ppjflww0000gn/T/ipykernel_15783/749469044.py\u001b[0m in \u001b[0;36m<module>\u001b[0;34m\u001b[0m\n\u001b[1;32m      6\u001b[0m \u001b[0mthreshold_bin\u001b[0m \u001b[0;34m=\u001b[0m \u001b[0;36m0\u001b[0m\u001b[0;34m\u001b[0m\u001b[0;34m\u001b[0m\u001b[0m\n\u001b[1;32m      7\u001b[0m \u001b[0mimage_1\u001b[0m \u001b[0;34m=\u001b[0m \u001b[0mcv\u001b[0m\u001b[0;34m.\u001b[0m\u001b[0mimread\u001b[0m\u001b[0;34m(\u001b[0m\u001b[0mpath_to_images\u001b[0m \u001b[0;34m+\u001b[0m \u001b[0;34m'0.jpg'\u001b[0m\u001b[0;34m,\u001b[0m \u001b[0mcv\u001b[0m\u001b[0;34m.\u001b[0m\u001b[0mIMREAD_GRAYSCALE\u001b[0m\u001b[0;34m)\u001b[0m\u001b[0;34m\u001b[0m\u001b[0;34m\u001b[0m\u001b[0m\n\u001b[0;32m----> 8\u001b[0;31m \u001b[0mslopes\u001b[0m \u001b[0;34m=\u001b[0m \u001b[0mnp\u001b[0m\u001b[0;34m.\u001b[0m\u001b[0mzeros\u001b[0m\u001b[0;34m(\u001b[0m\u001b[0;34m[\u001b[0m\u001b[0mimage_1\u001b[0m\u001b[0;34m.\u001b[0m\u001b[0mshape\u001b[0m\u001b[0;34m[\u001b[0m\u001b[0;36m0\u001b[0m\u001b[0;34m]\u001b[0m\u001b[0;34m,\u001b[0m \u001b[0mimage_1\u001b[0m\u001b[0;34m.\u001b[0m\u001b[0mshape\u001b[0m\u001b[0;34m[\u001b[0m\u001b[0;36m1\u001b[0m\u001b[0;34m]\u001b[0m\u001b[0;34m]\u001b[0m\u001b[0;34m)\u001b[0m\u001b[0;34m\u001b[0m\u001b[0;34m\u001b[0m\u001b[0m\n\u001b[0m\u001b[1;32m      9\u001b[0m \u001b[0;34m\u001b[0m\u001b[0m\n\u001b[1;32m     10\u001b[0m \u001b[0;32mfor\u001b[0m \u001b[0mi\u001b[0m \u001b[0;32min\u001b[0m \u001b[0mrange\u001b[0m\u001b[0;34m(\u001b[0m\u001b[0mimage_1\u001b[0m\u001b[0;34m.\u001b[0m\u001b[0mshape\u001b[0m\u001b[0;34m[\u001b[0m\u001b[0;36m0\u001b[0m\u001b[0;34m]\u001b[0m\u001b[0;34m)\u001b[0m\u001b[0;34m:\u001b[0m\u001b[0;34m\u001b[0m\u001b[0;34m\u001b[0m\u001b[0m\n",
      "\u001b[0;31mAttributeError\u001b[0m: 'NoneType' object has no attribute 'shape'"
     ]
    }
   ],
   "source": [
    "# Trying cropped simulated video (good video, 2 percent conc)\n",
    "\n",
    "frNum = 30\n",
    "path_to_images = 'sim_2p_crop/'\n",
    "kernel = 1\n",
    "threshold_bin = 0\n",
    "image_1 = cv.imread(path_to_images + '0.jpg', cv.IMREAD_GRAYSCALE)\n",
    "slopes = np.zeros([image_1.shape[0], image_1.shape[1]])\n",
    "\n",
    "for i in range(image_1.shape[0]):\n",
    "    for j in range(image_1.shape[1]):\n",
    "        pixel=[i, j]\n",
    "        print(pixel)\n",
    "        try:\n",
    "            _, corr_full_y = cross_correlation(frNum, path_to_images, pixel, kernel, x_disp=False, y_disp=True)\n",
    "        \n",
    "            T=50\n",
    "            image = np.copy(corr_full_y)\n",
    "            image[corr_full_y<T] = 0\n",
    "            image[corr_full_y>=T] = 1\n",
    "            blur = cv.GaussianBlur(image, (3, 3), 0)\n",
    "            blur_norm = cv.normalize(blur, None, 0, 255, cv.NORM_MINMAX)\n",
    "            my_detector = WaveDetector(corr_image=blur_norm)\n",
    "            my_detector.do_dbscan(eps =8, min_samples = 12, x_stretching = 4, do_plotting = True)\n",
    "            slope = my_detector.do_linear_regression()\n",
    "        except ValueError:\n",
    "            slope=None\n",
    "        slopes[i, j] = slope"
   ]
  },
  {
   "cell_type": "code",
   "execution_count": 128,
   "metadata": {
    "scrolled": true
   },
   "outputs": [
    {
     "data": {
      "text/plain": [
       "<matplotlib.colorbar.Colorbar at 0x7fda64ff5ee0>"
      ]
     },
     "execution_count": 128,
     "metadata": {},
     "output_type": "execute_result"
    },
    {
     "data": {
      "image/png": "[encoded data removed]",
      "text/plain": [
       "<Figure size 432x288 with 2 Axes>"
      ]
     },
     "metadata": {
      "needs_background": "light"
     },
     "output_type": "display_data"
    }
   ],
   "source": [
    "plt.imshow(slopes)\n",
    "plt.colorbar()"
   ]
  },
  {
   "cell_type": "code",
   "execution_count": 129,
   "metadata": {},
   "outputs": [
    {
     "data": {
      "text/plain": [
       "<matplotlib.colorbar.Colorbar at 0x7fda650692b0>"
      ]
     },
     "execution_count": 129,
     "metadata": {},
     "output_type": "execute_result"
    },
    {
     "data": {
      "image/png": "[encoded data removed]",
      "text/plain": [
       "<Figure size 432x288 with 2 Axes>"
      ]
     },
     "metadata": {
      "needs_background": "light"
     },
     "output_type": "display_data"
    }
   ],
   "source": [
    "new_slopes = slopes\n",
    "for i in range(slopes.shape[0]):\n",
    "    for j in range(slopes.shape[1]):\n",
    "        if new_slopes[i,j]<0:\n",
    "            new_slopes[i,j] *= -1\n",
    "plt.imshow(new_slopes)\n",
    "plt.colorbar()"
   ]
  },
  {
   "cell_type": "code",
   "execution_count": 139,
   "metadata": {},
   "outputs": [
    {
     "data": {
      "text/plain": [
       "3.4685706668484992"
      ]
     },
     "execution_count": 139,
     "metadata": {},
     "output_type": "execute_result"
    }
   ],
   "source": [
    "# Get rid of nan values\n",
    "\n",
    "nan_array = np.isnan(new_slopes)\n",
    "not_nan_array = ~ nan_array\n",
    "slope_notnan = new_slopes[not_nan_array]\n",
    "replacement = np.median(slope_notnan)\n",
    "replacement "
   ]
  },
  {
   "cell_type": "code",
   "execution_count": 115,
   "metadata": {},
   "outputs": [],
   "source": [
    "for i in range(slopes.shape[0]):\n",
    "    for j in range(slopes.shape[1]):\n",
    "        if new_slopes[i,j]>100:\n",
    "            new_slopes[i,j] = replacement\n",
    "        elif np.isnan(new_slopes[i,j]):\n",
    "            new_slopes[i,j] = replacement\n",
    "new_slopes\n",
    "median_of_slope_new = np.median(new_slopes)"
   ]
  },
  {
   "cell_type": "code",
   "execution_count": 105,
   "metadata": {},
   "outputs": [
    {
     "data": {
      "text/plain": [
       "2.468747825292654"
      ]
     },
     "execution_count": 105,
     "metadata": {},
     "output_type": "execute_result"
    }
   ],
   "source": [
    "nan_arrayN = np.isnan(new_slopes)\n",
    "not_nan_arrayN = ~ nan_arrayN\n",
    "slope_notnanN = new_slopes[not_nan_arrayN]\n",
    "median_of_slope_new = np.median(slope_notnanN)\n",
    "median_of_slope_new"
   ]
  },
  {
   "cell_type": "code",
   "execution_count": 106,
   "metadata": {
    "scrolled": true
   },
   "outputs": [
    {
     "data": {
      "text/plain": [
       "<matplotlib.colorbar.Colorbar at 0x7fda5def4610>"
      ]
     },
     "execution_count": 106,
     "metadata": {},
     "output_type": "execute_result"
    },
    {
     "data": {
      "image/png": "[encoded data removed]",
      "text/plain": [
       "<Figure size 432x288 with 2 Axes>"
      ]
     },
     "metadata": {
      "needs_background": "light"
     },
     "output_type": "display_data"
    }
   ],
   "source": [
    "plt.imshow(new_slopes)\n",
    "plt.colorbar()"
   ]
  },
  {
   "cell_type": "code",
   "execution_count": 140,
   "metadata": {},
   "outputs": [],
   "source": [
    "# Compute elasricity\n",
    "\n",
    "dens = 997\n",
    "conv_pix = (1/2)\n",
    "conv_fr = 1/300000\n",
    "\n",
    "mu = elasticity_HT(new_slopes, dens, conv_pix, conv_fr)"
   ]
  },
  {
   "cell_type": "code",
   "execution_count": 141,
   "metadata": {},
   "outputs": [
    {
     "data": {
      "text/plain": [
       "269.8850142789542"
      ]
     },
     "execution_count": 141,
     "metadata": {},
     "output_type": "execute_result"
    }
   ],
   "source": [
    "# Get rid of nan values\n",
    "\n",
    "nan_array = np.isnan(mu)\n",
    "not_nan_array = ~ nan_array\n",
    "mu_notnan = mu[not_nan_array]\n",
    "np.median(mu_notnan)\n"
   ]
  },
  {
   "cell_type": "code",
   "execution_count": 142,
   "metadata": {},
   "outputs": [
    {
     "data": {
      "text/plain": [
       "0.5202856000272749"
      ]
     },
     "execution_count": 142,
     "metadata": {},
     "output_type": "execute_result"
    }
   ],
   "source": [
    "speed = np.sqrt(mu_notnan/dens)\n",
    "np.median(speed)"
   ]
  },
  {
   "cell_type": "code",
   "execution_count": 133,
   "metadata": {
    "scrolled": true
   },
   "outputs": [
    {
     "data": {
      "text/plain": [
       "<matplotlib.colorbar.Colorbar at 0x7fda652384c0>"
      ]
     },
     "execution_count": 133,
     "metadata": {},
     "output_type": "execute_result"
    },
    {
     "data": {
      "image/png": "[encoded data removed]",
      "text/plain": [
       "<Figure size 432x288 with 2 Axes>"
      ]
     },
     "metadata": {
      "needs_background": "light"
     },
     "output_type": "display_data"
    }
   ],
   "source": [
    "plt.imshow(mu)\n",
    "plt.colorbar()"
   ]
  },
  {
   "cell_type": "code",
   "execution_count": null,
   "metadata": {},
   "outputs": [],
   "source": []
  }
 ],
 "metadata": {
  "interpreter": {
   "hash": "a31065c2cb285fc89af45a6e0e00b20f2f53e470cc5659f0bf6d768d5279787d"
  },
  "kernelspec": {
   "display_name": "Python 3 (ipykernel)",
   "language": "python",
   "name": "python3"
  },
  "language_info": {
   "codemirror_mode": {
    "name": "ipython",
    "version": 3
   },
   "file_extension": ".py",
   "mimetype": "text/x-python",
   "name": "python",
   "nbconvert_exporter": "python",
   "pygments_lexer": "ipython3",
   "version": "3.9.7"
  }
 },
 "nbformat": 4,
 "nbformat_minor": 2
}
