{
 "cells": [
  {
   "cell_type": "code",
   "execution_count": 1,
   "metadata": {},
   "outputs": [],
   "source": [
    "import numpy as np\n",
    "import cv2 as cv\n",
    "import matplotlib\n",
    "import matplotlib.pyplot as plt\n",
    "import os\n",
    "import shutil\n",
    "\n",
    "\n",
    "from utils import make_folder, sine_wave, read_frames_from_folder, slope_detect_positive, cross_correlation, sine_slopes_together"
   ]
  },
  {
   "cell_type": "code",
   "execution_count": 2,
   "metadata": {},
   "outputs": [
    {
     "name": "stdout",
     "output_type": "stream",
     "text": [
      "Such directory already exists\n"
     ]
    }
   ],
   "source": [
    "folder_name = 'sine_waves'\n",
    "isdir = os.path.isdir(folder_name)\n",
    "\n",
    "if isdir is False:\n",
    "    make_folder(folder_name)\n",
    "else:\n",
    "    print('Such directory already exists')"
   ]
  },
  {
   "cell_type": "code",
   "execution_count": 31,
   "metadata": {},
   "outputs": [
    {
     "name": "stdout",
     "output_type": "stream",
     "text": [
      "['sine_waves/sine_waves_0.1', 'sine_waves/sine_waves_0.3', 'sine_waves/sine_waves_0.5', 'sine_waves/sine_waves_0.7']\n"
     ]
    }
   ],
   "source": [
    "pixNoX = 100\n",
    "pixNoY = 100\n",
    "frNum = 5\n",
    "steps = np.linspace(0.1, 0.7, 4)\n",
    "f = 1\n",
    "save_folder_name = folder_name\n",
    "\n",
    "folders = sine_wave(pixNoX, pixNoY, frNum, steps, f, save_folder_name, delete_folders=True, noise=False)\n",
    "print(folders)"
   ]
  },
  {
   "cell_type": "code",
   "execution_count": 32,
   "metadata": {},
   "outputs": [
    {
     "data": {
      "text/plain": [
       "(4, 100, 50)"
      ]
     },
     "execution_count": 32,
     "metadata": {},
     "output_type": "execute_result"
    }
   ],
   "source": [
    "kernel = 1\n",
    "T = 20\n",
    "\n",
    "slopes = np.zeros([pixNoY, pixNoX//2])\n",
    "all_slopes = np.zeros([len(steps), pixNoY, pixNoX//2])\n",
    "all_slopes.shape\n",
    "\n"
   ]
  },
  {
   "cell_type": "code",
   "execution_count": 33,
   "metadata": {},
   "outputs": [],
   "source": [
    "path_to_images = 'sine_waves/sine_waves_0.7/'\n",
    "image_1 = cv.imread(path_to_images + '0.jpg', cv.IMREAD_GRAYSCALE)\n",
    "slopes = np.zeros([image_1.shape[0], image_1.shape[1]])  # empty matrix of 100x100\n",
    "\n",
    "\n",
    "for folder, k in zip(folders, range(0, len(steps)+1)):\n",
    "    path_to_images = f'{folder}/'\n",
    "    for i in range(image_1.shape[0]):\n",
    "        for j in range(image_1.shape[1]):\n",
    "            pixel=[i, j]\n",
    "            try:\n",
    "                slope = slope_detect_positive(T, frNum, path_to_images, pixel, kernel)\n",
    "            except ValueError:\n",
    "                slope = None\n",
    "            slopes[i, j] = slope\n",
    "    all_slopes[k] = slopes"
   ]
  },
  {
   "cell_type": "code",
   "execution_count": 35,
   "metadata": {},
   "outputs": [
    {
     "name": "stdout",
     "output_type": "stream",
     "text": [
      "[[-11. -11. -11. ... -11. -11. -11.]\n",
      " [-11. -11. -11. ... -11. -11. -11.]\n",
      " [-11. -11. -11. ... -11. -11. -11.]\n",
      " ...\n",
      " [-11. -11. -11. ... -11. -11. -11.]\n",
      " [-11. -11. -11. ... -11. -11. -11.]\n",
      " [-11. -11. -11. ... -11. -11. -11.]]\n"
     ]
    }
   ],
   "source": [
    "print(all_slopes[3])"
   ]
  },
  {
   "cell_type": "code",
   "execution_count": 36,
   "metadata": {},
   "outputs": [
    {
     "name": "stdout",
     "output_type": "stream",
     "text": [
      "The slopes and angles for propagating sine waves are:\n",
      "Step 0: -1.55 \n",
      "\n",
      "Step 1: -4.75 \n",
      "\n",
      "Step 2: -7.7 \n",
      "\n",
      "Step 3: -11.0 \n",
      "\n"
     ]
    },
    {
     "data": {
      "image/png": "[encoded data removed]",
      "text/plain": [
       "<Figure size 800x600 with 2 Axes>"
      ]
     },
     "metadata": {},
     "output_type": "display_data"
    }
   ],
   "source": [
    "print('The slopes and angles for propagating sine waves are:')\n",
    "for i in range(0, len(steps)):\n",
    "    print(f'Step {i}:', round(all_slopes[i, 0, 0], 2), '\\n')\n",
    "\n",
    "#printing the result\n",
    "\n",
    "all_slopes_1 = all_slopes[0]\n",
    "for i in range(1, len(steps)):\n",
    "    all_slopes_big = np.concatenate((all_slopes_1, all_slopes[i]), axis=1)\n",
    "    all_slopes_1 = all_slopes_big\n",
    "\n",
    "fig = plt.figure(figsize=(8, 6))\n",
    "plt.imshow(abs(all_slopes_big))\n",
    "plt.title('Slopes for the sine waves propagating with increasing rate')\n",
    "plt.colorbar()\n",
    "plt.show()"
   ]
  }
 ],
 "metadata": {
  "kernelspec": {
   "display_name": "Python 3.10.9 ('elastography')",
   "language": "python",
   "name": "python3"
  },
  "language_info": {
   "codemirror_mode": {
    "name": "ipython",
    "version": 3
   },
   "file_extension": ".py",
   "mimetype": "text/x-python",
   "name": "python",
   "nbconvert_exporter": "python",
   "pygments_lexer": "ipython3",
   "version": "3.10.9"
  },
  "orig_nbformat": 4,
  "vscode": {
   "interpreter": {
    "hash": "a3d30da45adb134a765899144bd3db66488bc29deb4a507e0d3f4d9edf9785fb"
   }
  }
 },
 "nbformat": 4,
 "nbformat_minor": 2
}
